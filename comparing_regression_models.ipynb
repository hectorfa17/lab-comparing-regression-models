{
 "cells": [
  {
   "cell_type": "markdown",
   "metadata": {},
   "source": [
    "# Lab | Comparing regression models"
   ]
  },
  {
   "cell_type": "markdown",
   "metadata": {
    "ExecuteTime": {
     "end_time": "2022-04-05T15:15:15.857867Z",
     "start_time": "2022-04-05T15:15:15.852186Z"
    }
   },
   "source": [
    "## Import the necessary libraries"
   ]
  },
  {
   "cell_type": "code",
   "execution_count": 4,
   "metadata": {
    "ExecuteTime": {
     "end_time": "2022-04-29T13:54:33.105028Z",
     "start_time": "2022-04-29T13:54:29.258639Z"
    }
   },
   "outputs": [],
   "source": [
    "import pandas as pd\n",
    "import seaborn as sns\n",
    "import numpy as np\n",
    "import matplotlib.pyplot as plt\n",
    "%matplotlib inline"
   ]
  },
  {
   "cell_type": "markdown",
   "metadata": {
    "ExecuteTime": {
     "end_time": "2022-04-05T15:15:19.069495Z",
     "start_time": "2022-04-05T15:15:19.063845Z"
    }
   },
   "source": [
    "## Load the we_fn_use_c_marketing_customer_value_analysis.csv into the variable customer_df"
   ]
  },
  {
   "cell_type": "code",
   "execution_count": 5,
   "metadata": {
    "ExecuteTime": {
     "end_time": "2022-04-29T13:54:33.584519Z",
     "start_time": "2022-04-29T13:54:33.127058Z"
    }
   },
   "outputs": [
    {
     "data": {
      "text/html": [
       "<div>\n",
       "<style scoped>\n",
       "    .dataframe tbody tr th:only-of-type {\n",
       "        vertical-align: middle;\n",
       "    }\n",
       "\n",
       "    .dataframe tbody tr th {\n",
       "        vertical-align: top;\n",
       "    }\n",
       "\n",
       "    .dataframe thead th {\n",
       "        text-align: right;\n",
       "    }\n",
       "</style>\n",
       "<table border=\"1\" class=\"dataframe\">\n",
       "  <thead>\n",
       "    <tr style=\"text-align: right;\">\n",
       "      <th></th>\n",
       "      <th>Customer</th>\n",
       "      <th>State</th>\n",
       "      <th>Customer Lifetime Value</th>\n",
       "      <th>Response</th>\n",
       "      <th>Coverage</th>\n",
       "      <th>Education</th>\n",
       "      <th>Effective To Date</th>\n",
       "      <th>EmploymentStatus</th>\n",
       "      <th>Gender</th>\n",
       "      <th>Income</th>\n",
       "      <th>...</th>\n",
       "      <th>Months Since Policy Inception</th>\n",
       "      <th>Number of Open Complaints</th>\n",
       "      <th>Number of Policies</th>\n",
       "      <th>Policy Type</th>\n",
       "      <th>Policy</th>\n",
       "      <th>Renew Offer Type</th>\n",
       "      <th>Sales Channel</th>\n",
       "      <th>Total Claim Amount</th>\n",
       "      <th>Vehicle Class</th>\n",
       "      <th>Vehicle Size</th>\n",
       "    </tr>\n",
       "  </thead>\n",
       "  <tbody>\n",
       "    <tr>\n",
       "      <th>0</th>\n",
       "      <td>BU79786</td>\n",
       "      <td>Washington</td>\n",
       "      <td>2763.519279</td>\n",
       "      <td>No</td>\n",
       "      <td>Basic</td>\n",
       "      <td>Bachelor</td>\n",
       "      <td>2/24/11</td>\n",
       "      <td>Employed</td>\n",
       "      <td>F</td>\n",
       "      <td>56274</td>\n",
       "      <td>...</td>\n",
       "      <td>5</td>\n",
       "      <td>0</td>\n",
       "      <td>1</td>\n",
       "      <td>Corporate Auto</td>\n",
       "      <td>Corporate L3</td>\n",
       "      <td>Offer1</td>\n",
       "      <td>Agent</td>\n",
       "      <td>384.811147</td>\n",
       "      <td>Two-Door Car</td>\n",
       "      <td>Medsize</td>\n",
       "    </tr>\n",
       "    <tr>\n",
       "      <th>1</th>\n",
       "      <td>QZ44356</td>\n",
       "      <td>Arizona</td>\n",
       "      <td>6979.535903</td>\n",
       "      <td>No</td>\n",
       "      <td>Extended</td>\n",
       "      <td>Bachelor</td>\n",
       "      <td>1/31/11</td>\n",
       "      <td>Unemployed</td>\n",
       "      <td>F</td>\n",
       "      <td>0</td>\n",
       "      <td>...</td>\n",
       "      <td>42</td>\n",
       "      <td>0</td>\n",
       "      <td>8</td>\n",
       "      <td>Personal Auto</td>\n",
       "      <td>Personal L3</td>\n",
       "      <td>Offer3</td>\n",
       "      <td>Agent</td>\n",
       "      <td>1131.464935</td>\n",
       "      <td>Four-Door Car</td>\n",
       "      <td>Medsize</td>\n",
       "    </tr>\n",
       "    <tr>\n",
       "      <th>2</th>\n",
       "      <td>AI49188</td>\n",
       "      <td>Nevada</td>\n",
       "      <td>12887.431650</td>\n",
       "      <td>No</td>\n",
       "      <td>Premium</td>\n",
       "      <td>Bachelor</td>\n",
       "      <td>2/19/11</td>\n",
       "      <td>Employed</td>\n",
       "      <td>F</td>\n",
       "      <td>48767</td>\n",
       "      <td>...</td>\n",
       "      <td>38</td>\n",
       "      <td>0</td>\n",
       "      <td>2</td>\n",
       "      <td>Personal Auto</td>\n",
       "      <td>Personal L3</td>\n",
       "      <td>Offer1</td>\n",
       "      <td>Agent</td>\n",
       "      <td>566.472247</td>\n",
       "      <td>Two-Door Car</td>\n",
       "      <td>Medsize</td>\n",
       "    </tr>\n",
       "    <tr>\n",
       "      <th>3</th>\n",
       "      <td>WW63253</td>\n",
       "      <td>California</td>\n",
       "      <td>7645.861827</td>\n",
       "      <td>No</td>\n",
       "      <td>Basic</td>\n",
       "      <td>Bachelor</td>\n",
       "      <td>1/20/11</td>\n",
       "      <td>Unemployed</td>\n",
       "      <td>M</td>\n",
       "      <td>0</td>\n",
       "      <td>...</td>\n",
       "      <td>65</td>\n",
       "      <td>0</td>\n",
       "      <td>7</td>\n",
       "      <td>Corporate Auto</td>\n",
       "      <td>Corporate L2</td>\n",
       "      <td>Offer1</td>\n",
       "      <td>Call Center</td>\n",
       "      <td>529.881344</td>\n",
       "      <td>SUV</td>\n",
       "      <td>Medsize</td>\n",
       "    </tr>\n",
       "    <tr>\n",
       "      <th>4</th>\n",
       "      <td>HB64268</td>\n",
       "      <td>Washington</td>\n",
       "      <td>2813.692575</td>\n",
       "      <td>No</td>\n",
       "      <td>Basic</td>\n",
       "      <td>Bachelor</td>\n",
       "      <td>2/3/11</td>\n",
       "      <td>Employed</td>\n",
       "      <td>M</td>\n",
       "      <td>43836</td>\n",
       "      <td>...</td>\n",
       "      <td>44</td>\n",
       "      <td>0</td>\n",
       "      <td>1</td>\n",
       "      <td>Personal Auto</td>\n",
       "      <td>Personal L1</td>\n",
       "      <td>Offer1</td>\n",
       "      <td>Agent</td>\n",
       "      <td>138.130879</td>\n",
       "      <td>Four-Door Car</td>\n",
       "      <td>Medsize</td>\n",
       "    </tr>\n",
       "    <tr>\n",
       "      <th>...</th>\n",
       "      <td>...</td>\n",
       "      <td>...</td>\n",
       "      <td>...</td>\n",
       "      <td>...</td>\n",
       "      <td>...</td>\n",
       "      <td>...</td>\n",
       "      <td>...</td>\n",
       "      <td>...</td>\n",
       "      <td>...</td>\n",
       "      <td>...</td>\n",
       "      <td>...</td>\n",
       "      <td>...</td>\n",
       "      <td>...</td>\n",
       "      <td>...</td>\n",
       "      <td>...</td>\n",
       "      <td>...</td>\n",
       "      <td>...</td>\n",
       "      <td>...</td>\n",
       "      <td>...</td>\n",
       "      <td>...</td>\n",
       "      <td>...</td>\n",
       "    </tr>\n",
       "    <tr>\n",
       "      <th>9129</th>\n",
       "      <td>LA72316</td>\n",
       "      <td>California</td>\n",
       "      <td>23405.987980</td>\n",
       "      <td>No</td>\n",
       "      <td>Basic</td>\n",
       "      <td>Bachelor</td>\n",
       "      <td>2/10/11</td>\n",
       "      <td>Employed</td>\n",
       "      <td>M</td>\n",
       "      <td>71941</td>\n",
       "      <td>...</td>\n",
       "      <td>89</td>\n",
       "      <td>0</td>\n",
       "      <td>2</td>\n",
       "      <td>Personal Auto</td>\n",
       "      <td>Personal L1</td>\n",
       "      <td>Offer2</td>\n",
       "      <td>Web</td>\n",
       "      <td>198.234764</td>\n",
       "      <td>Four-Door Car</td>\n",
       "      <td>Medsize</td>\n",
       "    </tr>\n",
       "    <tr>\n",
       "      <th>9130</th>\n",
       "      <td>PK87824</td>\n",
       "      <td>California</td>\n",
       "      <td>3096.511217</td>\n",
       "      <td>Yes</td>\n",
       "      <td>Extended</td>\n",
       "      <td>College</td>\n",
       "      <td>2/12/11</td>\n",
       "      <td>Employed</td>\n",
       "      <td>F</td>\n",
       "      <td>21604</td>\n",
       "      <td>...</td>\n",
       "      <td>28</td>\n",
       "      <td>0</td>\n",
       "      <td>1</td>\n",
       "      <td>Corporate Auto</td>\n",
       "      <td>Corporate L3</td>\n",
       "      <td>Offer1</td>\n",
       "      <td>Branch</td>\n",
       "      <td>379.200000</td>\n",
       "      <td>Four-Door Car</td>\n",
       "      <td>Medsize</td>\n",
       "    </tr>\n",
       "    <tr>\n",
       "      <th>9131</th>\n",
       "      <td>TD14365</td>\n",
       "      <td>California</td>\n",
       "      <td>8163.890428</td>\n",
       "      <td>No</td>\n",
       "      <td>Extended</td>\n",
       "      <td>Bachelor</td>\n",
       "      <td>2/6/11</td>\n",
       "      <td>Unemployed</td>\n",
       "      <td>M</td>\n",
       "      <td>0</td>\n",
       "      <td>...</td>\n",
       "      <td>37</td>\n",
       "      <td>3</td>\n",
       "      <td>2</td>\n",
       "      <td>Corporate Auto</td>\n",
       "      <td>Corporate L2</td>\n",
       "      <td>Offer1</td>\n",
       "      <td>Branch</td>\n",
       "      <td>790.784983</td>\n",
       "      <td>Four-Door Car</td>\n",
       "      <td>Medsize</td>\n",
       "    </tr>\n",
       "    <tr>\n",
       "      <th>9132</th>\n",
       "      <td>UP19263</td>\n",
       "      <td>California</td>\n",
       "      <td>7524.442436</td>\n",
       "      <td>No</td>\n",
       "      <td>Extended</td>\n",
       "      <td>College</td>\n",
       "      <td>2/3/11</td>\n",
       "      <td>Employed</td>\n",
       "      <td>M</td>\n",
       "      <td>21941</td>\n",
       "      <td>...</td>\n",
       "      <td>3</td>\n",
       "      <td>0</td>\n",
       "      <td>3</td>\n",
       "      <td>Personal Auto</td>\n",
       "      <td>Personal L2</td>\n",
       "      <td>Offer3</td>\n",
       "      <td>Branch</td>\n",
       "      <td>691.200000</td>\n",
       "      <td>Four-Door Car</td>\n",
       "      <td>Large</td>\n",
       "    </tr>\n",
       "    <tr>\n",
       "      <th>9133</th>\n",
       "      <td>Y167826</td>\n",
       "      <td>California</td>\n",
       "      <td>2611.836866</td>\n",
       "      <td>No</td>\n",
       "      <td>Extended</td>\n",
       "      <td>College</td>\n",
       "      <td>2/14/11</td>\n",
       "      <td>Unemployed</td>\n",
       "      <td>M</td>\n",
       "      <td>0</td>\n",
       "      <td>...</td>\n",
       "      <td>90</td>\n",
       "      <td>0</td>\n",
       "      <td>1</td>\n",
       "      <td>Corporate Auto</td>\n",
       "      <td>Corporate L3</td>\n",
       "      <td>Offer4</td>\n",
       "      <td>Call Center</td>\n",
       "      <td>369.600000</td>\n",
       "      <td>Two-Door Car</td>\n",
       "      <td>Medsize</td>\n",
       "    </tr>\n",
       "  </tbody>\n",
       "</table>\n",
       "<p>9134 rows × 24 columns</p>\n",
       "</div>"
      ],
      "text/plain": [
       "     Customer       State  Customer Lifetime Value Response  Coverage  \\\n",
       "0     BU79786  Washington              2763.519279       No     Basic   \n",
       "1     QZ44356     Arizona              6979.535903       No  Extended   \n",
       "2     AI49188      Nevada             12887.431650       No   Premium   \n",
       "3     WW63253  California              7645.861827       No     Basic   \n",
       "4     HB64268  Washington              2813.692575       No     Basic   \n",
       "...       ...         ...                      ...      ...       ...   \n",
       "9129  LA72316  California             23405.987980       No     Basic   \n",
       "9130  PK87824  California              3096.511217      Yes  Extended   \n",
       "9131  TD14365  California              8163.890428       No  Extended   \n",
       "9132  UP19263  California              7524.442436       No  Extended   \n",
       "9133  Y167826  California              2611.836866       No  Extended   \n",
       "\n",
       "     Education Effective To Date EmploymentStatus Gender  Income  ...  \\\n",
       "0     Bachelor           2/24/11         Employed      F   56274  ...   \n",
       "1     Bachelor           1/31/11       Unemployed      F       0  ...   \n",
       "2     Bachelor           2/19/11         Employed      F   48767  ...   \n",
       "3     Bachelor           1/20/11       Unemployed      M       0  ...   \n",
       "4     Bachelor            2/3/11         Employed      M   43836  ...   \n",
       "...        ...               ...              ...    ...     ...  ...   \n",
       "9129  Bachelor           2/10/11         Employed      M   71941  ...   \n",
       "9130   College           2/12/11         Employed      F   21604  ...   \n",
       "9131  Bachelor            2/6/11       Unemployed      M       0  ...   \n",
       "9132   College            2/3/11         Employed      M   21941  ...   \n",
       "9133   College           2/14/11       Unemployed      M       0  ...   \n",
       "\n",
       "     Months Since Policy Inception Number of Open Complaints  \\\n",
       "0                                5                         0   \n",
       "1                               42                         0   \n",
       "2                               38                         0   \n",
       "3                               65                         0   \n",
       "4                               44                         0   \n",
       "...                            ...                       ...   \n",
       "9129                            89                         0   \n",
       "9130                            28                         0   \n",
       "9131                            37                         3   \n",
       "9132                             3                         0   \n",
       "9133                            90                         0   \n",
       "\n",
       "      Number of Policies     Policy Type        Policy  Renew Offer Type  \\\n",
       "0                      1  Corporate Auto  Corporate L3            Offer1   \n",
       "1                      8   Personal Auto   Personal L3            Offer3   \n",
       "2                      2   Personal Auto   Personal L3            Offer1   \n",
       "3                      7  Corporate Auto  Corporate L2            Offer1   \n",
       "4                      1   Personal Auto   Personal L1            Offer1   \n",
       "...                  ...             ...           ...               ...   \n",
       "9129                   2   Personal Auto   Personal L1            Offer2   \n",
       "9130                   1  Corporate Auto  Corporate L3            Offer1   \n",
       "9131                   2  Corporate Auto  Corporate L2            Offer1   \n",
       "9132                   3   Personal Auto   Personal L2            Offer3   \n",
       "9133                   1  Corporate Auto  Corporate L3            Offer4   \n",
       "\n",
       "      Sales Channel Total Claim Amount  Vehicle Class Vehicle Size  \n",
       "0             Agent         384.811147   Two-Door Car      Medsize  \n",
       "1             Agent        1131.464935  Four-Door Car      Medsize  \n",
       "2             Agent         566.472247   Two-Door Car      Medsize  \n",
       "3       Call Center         529.881344            SUV      Medsize  \n",
       "4             Agent         138.130879  Four-Door Car      Medsize  \n",
       "...             ...                ...            ...          ...  \n",
       "9129            Web         198.234764  Four-Door Car      Medsize  \n",
       "9130         Branch         379.200000  Four-Door Car      Medsize  \n",
       "9131         Branch         790.784983  Four-Door Car      Medsize  \n",
       "9132         Branch         691.200000  Four-Door Car        Large  \n",
       "9133    Call Center         369.600000   Two-Door Car      Medsize  \n",
       "\n",
       "[9134 rows x 24 columns]"
      ]
     },
     "execution_count": 5,
     "metadata": {},
     "output_type": "execute_result"
    }
   ],
   "source": [
    "customer_df = pd.read_csv('/Users/Hector_Martin/Documents/Labs/lab-cleaning-numerical-data/files_for_lab/we_fn_use_c_marketing_customer_value_analysis.csv')\n",
    "customer_df"
   ]
  },
  {
   "cell_type": "markdown",
   "metadata": {},
   "source": [
    "## Standardizing the columns:"
   ]
  },
  {
   "cell_type": "code",
   "execution_count": 6,
   "metadata": {
    "ExecuteTime": {
     "end_time": "2022-04-29T13:54:33.641539Z",
     "start_time": "2022-04-29T13:54:33.613042Z"
    }
   },
   "outputs": [],
   "source": [
    "def standardize_cols (df):\n",
    "    cols = []\n",
    "    for column in df.columns:\n",
    "        cols.append(column.lower().replace(' ','_'))#fill in the list with all column names in lowercase\n",
    "    df.columns = cols#replace the dataframe columns with the columns stored in the list\n",
    "    \n",
    "    return df"
   ]
  },
  {
   "cell_type": "code",
   "execution_count": 7,
   "metadata": {
    "ExecuteTime": {
     "end_time": "2022-04-29T13:54:33.786953Z",
     "start_time": "2022-04-29T13:54:33.668809Z"
    }
   },
   "outputs": [
    {
     "data": {
      "text/html": [
       "<div>\n",
       "<style scoped>\n",
       "    .dataframe tbody tr th:only-of-type {\n",
       "        vertical-align: middle;\n",
       "    }\n",
       "\n",
       "    .dataframe tbody tr th {\n",
       "        vertical-align: top;\n",
       "    }\n",
       "\n",
       "    .dataframe thead th {\n",
       "        text-align: right;\n",
       "    }\n",
       "</style>\n",
       "<table border=\"1\" class=\"dataframe\">\n",
       "  <thead>\n",
       "    <tr style=\"text-align: right;\">\n",
       "      <th></th>\n",
       "      <th>customer</th>\n",
       "      <th>state</th>\n",
       "      <th>customer_lifetime_value</th>\n",
       "      <th>response</th>\n",
       "      <th>coverage</th>\n",
       "      <th>education</th>\n",
       "      <th>effective_to_date</th>\n",
       "      <th>employmentstatus</th>\n",
       "      <th>gender</th>\n",
       "      <th>income</th>\n",
       "      <th>...</th>\n",
       "      <th>months_since_policy_inception</th>\n",
       "      <th>number_of_open_complaints</th>\n",
       "      <th>number_of_policies</th>\n",
       "      <th>policy_type</th>\n",
       "      <th>policy</th>\n",
       "      <th>renew_offer_type</th>\n",
       "      <th>sales_channel</th>\n",
       "      <th>total_claim_amount</th>\n",
       "      <th>vehicle_class</th>\n",
       "      <th>vehicle_size</th>\n",
       "    </tr>\n",
       "  </thead>\n",
       "  <tbody>\n",
       "    <tr>\n",
       "      <th>0</th>\n",
       "      <td>BU79786</td>\n",
       "      <td>Washington</td>\n",
       "      <td>2763.519279</td>\n",
       "      <td>No</td>\n",
       "      <td>Basic</td>\n",
       "      <td>Bachelor</td>\n",
       "      <td>2/24/11</td>\n",
       "      <td>Employed</td>\n",
       "      <td>F</td>\n",
       "      <td>56274</td>\n",
       "      <td>...</td>\n",
       "      <td>5</td>\n",
       "      <td>0</td>\n",
       "      <td>1</td>\n",
       "      <td>Corporate Auto</td>\n",
       "      <td>Corporate L3</td>\n",
       "      <td>Offer1</td>\n",
       "      <td>Agent</td>\n",
       "      <td>384.811147</td>\n",
       "      <td>Two-Door Car</td>\n",
       "      <td>Medsize</td>\n",
       "    </tr>\n",
       "    <tr>\n",
       "      <th>1</th>\n",
       "      <td>QZ44356</td>\n",
       "      <td>Arizona</td>\n",
       "      <td>6979.535903</td>\n",
       "      <td>No</td>\n",
       "      <td>Extended</td>\n",
       "      <td>Bachelor</td>\n",
       "      <td>1/31/11</td>\n",
       "      <td>Unemployed</td>\n",
       "      <td>F</td>\n",
       "      <td>0</td>\n",
       "      <td>...</td>\n",
       "      <td>42</td>\n",
       "      <td>0</td>\n",
       "      <td>8</td>\n",
       "      <td>Personal Auto</td>\n",
       "      <td>Personal L3</td>\n",
       "      <td>Offer3</td>\n",
       "      <td>Agent</td>\n",
       "      <td>1131.464935</td>\n",
       "      <td>Four-Door Car</td>\n",
       "      <td>Medsize</td>\n",
       "    </tr>\n",
       "    <tr>\n",
       "      <th>2</th>\n",
       "      <td>AI49188</td>\n",
       "      <td>Nevada</td>\n",
       "      <td>12887.431650</td>\n",
       "      <td>No</td>\n",
       "      <td>Premium</td>\n",
       "      <td>Bachelor</td>\n",
       "      <td>2/19/11</td>\n",
       "      <td>Employed</td>\n",
       "      <td>F</td>\n",
       "      <td>48767</td>\n",
       "      <td>...</td>\n",
       "      <td>38</td>\n",
       "      <td>0</td>\n",
       "      <td>2</td>\n",
       "      <td>Personal Auto</td>\n",
       "      <td>Personal L3</td>\n",
       "      <td>Offer1</td>\n",
       "      <td>Agent</td>\n",
       "      <td>566.472247</td>\n",
       "      <td>Two-Door Car</td>\n",
       "      <td>Medsize</td>\n",
       "    </tr>\n",
       "    <tr>\n",
       "      <th>3</th>\n",
       "      <td>WW63253</td>\n",
       "      <td>California</td>\n",
       "      <td>7645.861827</td>\n",
       "      <td>No</td>\n",
       "      <td>Basic</td>\n",
       "      <td>Bachelor</td>\n",
       "      <td>1/20/11</td>\n",
       "      <td>Unemployed</td>\n",
       "      <td>M</td>\n",
       "      <td>0</td>\n",
       "      <td>...</td>\n",
       "      <td>65</td>\n",
       "      <td>0</td>\n",
       "      <td>7</td>\n",
       "      <td>Corporate Auto</td>\n",
       "      <td>Corporate L2</td>\n",
       "      <td>Offer1</td>\n",
       "      <td>Call Center</td>\n",
       "      <td>529.881344</td>\n",
       "      <td>SUV</td>\n",
       "      <td>Medsize</td>\n",
       "    </tr>\n",
       "    <tr>\n",
       "      <th>4</th>\n",
       "      <td>HB64268</td>\n",
       "      <td>Washington</td>\n",
       "      <td>2813.692575</td>\n",
       "      <td>No</td>\n",
       "      <td>Basic</td>\n",
       "      <td>Bachelor</td>\n",
       "      <td>2/3/11</td>\n",
       "      <td>Employed</td>\n",
       "      <td>M</td>\n",
       "      <td>43836</td>\n",
       "      <td>...</td>\n",
       "      <td>44</td>\n",
       "      <td>0</td>\n",
       "      <td>1</td>\n",
       "      <td>Personal Auto</td>\n",
       "      <td>Personal L1</td>\n",
       "      <td>Offer1</td>\n",
       "      <td>Agent</td>\n",
       "      <td>138.130879</td>\n",
       "      <td>Four-Door Car</td>\n",
       "      <td>Medsize</td>\n",
       "    </tr>\n",
       "  </tbody>\n",
       "</table>\n",
       "<p>5 rows × 24 columns</p>\n",
       "</div>"
      ],
      "text/plain": [
       "  customer       state  customer_lifetime_value response  coverage education  \\\n",
       "0  BU79786  Washington              2763.519279       No     Basic  Bachelor   \n",
       "1  QZ44356     Arizona              6979.535903       No  Extended  Bachelor   \n",
       "2  AI49188      Nevada             12887.431650       No   Premium  Bachelor   \n",
       "3  WW63253  California              7645.861827       No     Basic  Bachelor   \n",
       "4  HB64268  Washington              2813.692575       No     Basic  Bachelor   \n",
       "\n",
       "  effective_to_date employmentstatus gender  income  ...  \\\n",
       "0           2/24/11         Employed      F   56274  ...   \n",
       "1           1/31/11       Unemployed      F       0  ...   \n",
       "2           2/19/11         Employed      F   48767  ...   \n",
       "3           1/20/11       Unemployed      M       0  ...   \n",
       "4            2/3/11         Employed      M   43836  ...   \n",
       "\n",
       "  months_since_policy_inception number_of_open_complaints  number_of_policies  \\\n",
       "0                             5                         0                   1   \n",
       "1                            42                         0                   8   \n",
       "2                            38                         0                   2   \n",
       "3                            65                         0                   7   \n",
       "4                            44                         0                   1   \n",
       "\n",
       "      policy_type        policy  renew_offer_type  sales_channel  \\\n",
       "0  Corporate Auto  Corporate L3            Offer1          Agent   \n",
       "1   Personal Auto   Personal L3            Offer3          Agent   \n",
       "2   Personal Auto   Personal L3            Offer1          Agent   \n",
       "3  Corporate Auto  Corporate L2            Offer1    Call Center   \n",
       "4   Personal Auto   Personal L1            Offer1          Agent   \n",
       "\n",
       "  total_claim_amount  vehicle_class vehicle_size  \n",
       "0         384.811147   Two-Door Car      Medsize  \n",
       "1        1131.464935  Four-Door Car      Medsize  \n",
       "2         566.472247   Two-Door Car      Medsize  \n",
       "3         529.881344            SUV      Medsize  \n",
       "4         138.130879  Four-Door Car      Medsize  \n",
       "\n",
       "[5 rows x 24 columns]"
      ]
     },
     "metadata": {},
     "output_type": "display_data"
    }
   ],
   "source": [
    "customer_df = standardize_cols(customer_df)\n",
    "display(customer_df.head(5))"
   ]
  },
  {
   "cell_type": "markdown",
   "metadata": {},
   "source": [
    "## We will start with removing outliers, if you have not already done so. We have discussed different methods to remove outliers. Use the one you feel more comfortable with, define a function for that. Use the function to remove the outliers and apply it to the dataframe."
   ]
  },
  {
   "cell_type": "code",
   "execution_count": 8,
   "metadata": {
    "ExecuteTime": {
     "end_time": "2022-04-29T13:54:33.893907Z",
     "start_time": "2022-04-29T13:54:33.809788Z"
    }
   },
   "outputs": [],
   "source": [
    "customer_df = customer_df.drop(['customer'], axis =1)"
   ]
  },
  {
   "cell_type": "code",
   "execution_count": 9,
   "metadata": {
    "ExecuteTime": {
     "end_time": "2022-04-29T13:54:34.101160Z",
     "start_time": "2022-04-29T13:54:33.917835Z"
    }
   },
   "outputs": [
    {
     "data": {
      "text/html": [
       "<div>\n",
       "<style scoped>\n",
       "    .dataframe tbody tr th:only-of-type {\n",
       "        vertical-align: middle;\n",
       "    }\n",
       "\n",
       "    .dataframe tbody tr th {\n",
       "        vertical-align: top;\n",
       "    }\n",
       "\n",
       "    .dataframe thead th {\n",
       "        text-align: right;\n",
       "    }\n",
       "</style>\n",
       "<table border=\"1\" class=\"dataframe\">\n",
       "  <thead>\n",
       "    <tr style=\"text-align: right;\">\n",
       "      <th></th>\n",
       "      <th>state</th>\n",
       "      <th>customer_lifetime_value</th>\n",
       "      <th>response</th>\n",
       "      <th>coverage</th>\n",
       "      <th>education</th>\n",
       "      <th>effective_to_date</th>\n",
       "      <th>employmentstatus</th>\n",
       "      <th>gender</th>\n",
       "      <th>income</th>\n",
       "      <th>location_code</th>\n",
       "      <th>...</th>\n",
       "      <th>months_since_policy_inception</th>\n",
       "      <th>number_of_open_complaints</th>\n",
       "      <th>number_of_policies</th>\n",
       "      <th>policy_type</th>\n",
       "      <th>policy</th>\n",
       "      <th>renew_offer_type</th>\n",
       "      <th>sales_channel</th>\n",
       "      <th>total_claim_amount</th>\n",
       "      <th>vehicle_class</th>\n",
       "      <th>vehicle_size</th>\n",
       "    </tr>\n",
       "  </thead>\n",
       "  <tbody>\n",
       "    <tr>\n",
       "      <th>0</th>\n",
       "      <td>Washington</td>\n",
       "      <td>2763.519279</td>\n",
       "      <td>No</td>\n",
       "      <td>Basic</td>\n",
       "      <td>Bachelor</td>\n",
       "      <td>2/24/11</td>\n",
       "      <td>Employed</td>\n",
       "      <td>F</td>\n",
       "      <td>56274</td>\n",
       "      <td>Suburban</td>\n",
       "      <td>...</td>\n",
       "      <td>5</td>\n",
       "      <td>0</td>\n",
       "      <td>1</td>\n",
       "      <td>Corporate Auto</td>\n",
       "      <td>Corporate L3</td>\n",
       "      <td>Offer1</td>\n",
       "      <td>Agent</td>\n",
       "      <td>384.811147</td>\n",
       "      <td>Two-Door Car</td>\n",
       "      <td>Medsize</td>\n",
       "    </tr>\n",
       "    <tr>\n",
       "      <th>1</th>\n",
       "      <td>Arizona</td>\n",
       "      <td>6979.535903</td>\n",
       "      <td>No</td>\n",
       "      <td>Extended</td>\n",
       "      <td>Bachelor</td>\n",
       "      <td>1/31/11</td>\n",
       "      <td>Unemployed</td>\n",
       "      <td>F</td>\n",
       "      <td>0</td>\n",
       "      <td>Suburban</td>\n",
       "      <td>...</td>\n",
       "      <td>42</td>\n",
       "      <td>0</td>\n",
       "      <td>8</td>\n",
       "      <td>Personal Auto</td>\n",
       "      <td>Personal L3</td>\n",
       "      <td>Offer3</td>\n",
       "      <td>Agent</td>\n",
       "      <td>1131.464935</td>\n",
       "      <td>Four-Door Car</td>\n",
       "      <td>Medsize</td>\n",
       "    </tr>\n",
       "    <tr>\n",
       "      <th>2</th>\n",
       "      <td>Nevada</td>\n",
       "      <td>12887.431650</td>\n",
       "      <td>No</td>\n",
       "      <td>Premium</td>\n",
       "      <td>Bachelor</td>\n",
       "      <td>2/19/11</td>\n",
       "      <td>Employed</td>\n",
       "      <td>F</td>\n",
       "      <td>48767</td>\n",
       "      <td>Suburban</td>\n",
       "      <td>...</td>\n",
       "      <td>38</td>\n",
       "      <td>0</td>\n",
       "      <td>2</td>\n",
       "      <td>Personal Auto</td>\n",
       "      <td>Personal L3</td>\n",
       "      <td>Offer1</td>\n",
       "      <td>Agent</td>\n",
       "      <td>566.472247</td>\n",
       "      <td>Two-Door Car</td>\n",
       "      <td>Medsize</td>\n",
       "    </tr>\n",
       "    <tr>\n",
       "      <th>3</th>\n",
       "      <td>California</td>\n",
       "      <td>7645.861827</td>\n",
       "      <td>No</td>\n",
       "      <td>Basic</td>\n",
       "      <td>Bachelor</td>\n",
       "      <td>1/20/11</td>\n",
       "      <td>Unemployed</td>\n",
       "      <td>M</td>\n",
       "      <td>0</td>\n",
       "      <td>Suburban</td>\n",
       "      <td>...</td>\n",
       "      <td>65</td>\n",
       "      <td>0</td>\n",
       "      <td>7</td>\n",
       "      <td>Corporate Auto</td>\n",
       "      <td>Corporate L2</td>\n",
       "      <td>Offer1</td>\n",
       "      <td>Call Center</td>\n",
       "      <td>529.881344</td>\n",
       "      <td>SUV</td>\n",
       "      <td>Medsize</td>\n",
       "    </tr>\n",
       "    <tr>\n",
       "      <th>4</th>\n",
       "      <td>Washington</td>\n",
       "      <td>2813.692575</td>\n",
       "      <td>No</td>\n",
       "      <td>Basic</td>\n",
       "      <td>Bachelor</td>\n",
       "      <td>2/3/11</td>\n",
       "      <td>Employed</td>\n",
       "      <td>M</td>\n",
       "      <td>43836</td>\n",
       "      <td>Rural</td>\n",
       "      <td>...</td>\n",
       "      <td>44</td>\n",
       "      <td>0</td>\n",
       "      <td>1</td>\n",
       "      <td>Personal Auto</td>\n",
       "      <td>Personal L1</td>\n",
       "      <td>Offer1</td>\n",
       "      <td>Agent</td>\n",
       "      <td>138.130879</td>\n",
       "      <td>Four-Door Car</td>\n",
       "      <td>Medsize</td>\n",
       "    </tr>\n",
       "  </tbody>\n",
       "</table>\n",
       "<p>5 rows × 23 columns</p>\n",
       "</div>"
      ],
      "text/plain": [
       "        state  customer_lifetime_value response  coverage education  \\\n",
       "0  Washington              2763.519279       No     Basic  Bachelor   \n",
       "1     Arizona              6979.535903       No  Extended  Bachelor   \n",
       "2      Nevada             12887.431650       No   Premium  Bachelor   \n",
       "3  California              7645.861827       No     Basic  Bachelor   \n",
       "4  Washington              2813.692575       No     Basic  Bachelor   \n",
       "\n",
       "  effective_to_date employmentstatus gender  income location_code  ...  \\\n",
       "0           2/24/11         Employed      F   56274      Suburban  ...   \n",
       "1           1/31/11       Unemployed      F       0      Suburban  ...   \n",
       "2           2/19/11         Employed      F   48767      Suburban  ...   \n",
       "3           1/20/11       Unemployed      M       0      Suburban  ...   \n",
       "4            2/3/11         Employed      M   43836         Rural  ...   \n",
       "\n",
       "  months_since_policy_inception  number_of_open_complaints  \\\n",
       "0                             5                          0   \n",
       "1                            42                          0   \n",
       "2                            38                          0   \n",
       "3                            65                          0   \n",
       "4                            44                          0   \n",
       "\n",
       "   number_of_policies     policy_type        policy  renew_offer_type  \\\n",
       "0                   1  Corporate Auto  Corporate L3            Offer1   \n",
       "1                   8   Personal Auto   Personal L3            Offer3   \n",
       "2                   2   Personal Auto   Personal L3            Offer1   \n",
       "3                   7  Corporate Auto  Corporate L2            Offer1   \n",
       "4                   1   Personal Auto   Personal L1            Offer1   \n",
       "\n",
       "  sales_channel total_claim_amount  vehicle_class vehicle_size  \n",
       "0         Agent         384.811147   Two-Door Car      Medsize  \n",
       "1         Agent        1131.464935  Four-Door Car      Medsize  \n",
       "2         Agent         566.472247   Two-Door Car      Medsize  \n",
       "3   Call Center         529.881344            SUV      Medsize  \n",
       "4         Agent         138.130879  Four-Door Car      Medsize  \n",
       "\n",
       "[5 rows x 23 columns]"
      ]
     },
     "execution_count": 9,
     "metadata": {},
     "output_type": "execute_result"
    }
   ],
   "source": [
    "customer_df.head(5)"
   ]
  },
  {
   "cell_type": "markdown",
   "metadata": {},
   "source": [
    "### Splitting Numerical columns between Continuous and Discrete\n",
    "\n",
    "In order to identify Outliers and take care of them, first of all we have to identify the **Continuous Numerical** columns. We will split those into 2 different DataFrames."
   ]
  },
  {
   "cell_type": "code",
   "execution_count": 10,
   "metadata": {
    "ExecuteTime": {
     "end_time": "2022-04-29T13:54:34.135437Z",
     "start_time": "2022-04-29T13:54:34.121320Z"
    }
   },
   "outputs": [],
   "source": [
    "def num_cont_disc (df, num_uniques):\n",
    "    \n",
    "    df2 = df.select_dtypes(include = np.number)\n",
    "    \n",
    "    df_disc = df2.loc[:,df.nunique() < num_uniques] \n",
    "    df_cont = df2.loc[:,df.nunique() > num_uniques]\n",
    "\n",
    "    return df_disc, df_cont"
   ]
  },
  {
   "cell_type": "markdown",
   "metadata": {},
   "source": [
    "As mentioned in the cleaning_numerical_data lab, we are going to set a threshold in which any column exceeding 100 unique values per column will be considered Continous."
   ]
  },
  {
   "cell_type": "code",
   "execution_count": 11,
   "metadata": {
    "ExecuteTime": {
     "end_time": "2022-04-29T13:54:34.331021Z",
     "start_time": "2022-04-29T13:54:34.151468Z"
    }
   },
   "outputs": [],
   "source": [
    "df_disc, df_cont = num_cont_disc(customer_df, 100)"
   ]
  },
  {
   "cell_type": "code",
   "execution_count": 12,
   "metadata": {
    "ExecuteTime": {
     "end_time": "2022-04-29T13:54:34.423723Z",
     "start_time": "2022-04-29T13:54:34.361558Z"
    }
   },
   "outputs": [
    {
     "data": {
      "text/html": [
       "<div>\n",
       "<style scoped>\n",
       "    .dataframe tbody tr th:only-of-type {\n",
       "        vertical-align: middle;\n",
       "    }\n",
       "\n",
       "    .dataframe tbody tr th {\n",
       "        vertical-align: top;\n",
       "    }\n",
       "\n",
       "    .dataframe thead th {\n",
       "        text-align: right;\n",
       "    }\n",
       "</style>\n",
       "<table border=\"1\" class=\"dataframe\">\n",
       "  <thead>\n",
       "    <tr style=\"text-align: right;\">\n",
       "      <th></th>\n",
       "      <th>months_since_last_claim</th>\n",
       "      <th>number_of_open_complaints</th>\n",
       "      <th>number_of_policies</th>\n",
       "    </tr>\n",
       "  </thead>\n",
       "  <tbody>\n",
       "    <tr>\n",
       "      <th>0</th>\n",
       "      <td>32</td>\n",
       "      <td>0</td>\n",
       "      <td>1</td>\n",
       "    </tr>\n",
       "    <tr>\n",
       "      <th>1</th>\n",
       "      <td>13</td>\n",
       "      <td>0</td>\n",
       "      <td>8</td>\n",
       "    </tr>\n",
       "    <tr>\n",
       "      <th>2</th>\n",
       "      <td>18</td>\n",
       "      <td>0</td>\n",
       "      <td>2</td>\n",
       "    </tr>\n",
       "    <tr>\n",
       "      <th>3</th>\n",
       "      <td>18</td>\n",
       "      <td>0</td>\n",
       "      <td>7</td>\n",
       "    </tr>\n",
       "    <tr>\n",
       "      <th>4</th>\n",
       "      <td>12</td>\n",
       "      <td>0</td>\n",
       "      <td>1</td>\n",
       "    </tr>\n",
       "  </tbody>\n",
       "</table>\n",
       "</div>"
      ],
      "text/plain": [
       "   months_since_last_claim  number_of_open_complaints  number_of_policies\n",
       "0                       32                          0                   1\n",
       "1                       13                          0                   8\n",
       "2                       18                          0                   2\n",
       "3                       18                          0                   7\n",
       "4                       12                          0                   1"
      ]
     },
     "metadata": {},
     "output_type": "display_data"
    },
    {
     "data": {
      "text/html": [
       "<div>\n",
       "<style scoped>\n",
       "    .dataframe tbody tr th:only-of-type {\n",
       "        vertical-align: middle;\n",
       "    }\n",
       "\n",
       "    .dataframe tbody tr th {\n",
       "        vertical-align: top;\n",
       "    }\n",
       "\n",
       "    .dataframe thead th {\n",
       "        text-align: right;\n",
       "    }\n",
       "</style>\n",
       "<table border=\"1\" class=\"dataframe\">\n",
       "  <thead>\n",
       "    <tr style=\"text-align: right;\">\n",
       "      <th></th>\n",
       "      <th>customer_lifetime_value</th>\n",
       "      <th>income</th>\n",
       "      <th>monthly_premium_auto</th>\n",
       "      <th>total_claim_amount</th>\n",
       "    </tr>\n",
       "  </thead>\n",
       "  <tbody>\n",
       "    <tr>\n",
       "      <th>0</th>\n",
       "      <td>2763.519279</td>\n",
       "      <td>56274</td>\n",
       "      <td>69</td>\n",
       "      <td>384.811147</td>\n",
       "    </tr>\n",
       "    <tr>\n",
       "      <th>1</th>\n",
       "      <td>6979.535903</td>\n",
       "      <td>0</td>\n",
       "      <td>94</td>\n",
       "      <td>1131.464935</td>\n",
       "    </tr>\n",
       "    <tr>\n",
       "      <th>2</th>\n",
       "      <td>12887.431650</td>\n",
       "      <td>48767</td>\n",
       "      <td>108</td>\n",
       "      <td>566.472247</td>\n",
       "    </tr>\n",
       "    <tr>\n",
       "      <th>3</th>\n",
       "      <td>7645.861827</td>\n",
       "      <td>0</td>\n",
       "      <td>106</td>\n",
       "      <td>529.881344</td>\n",
       "    </tr>\n",
       "    <tr>\n",
       "      <th>4</th>\n",
       "      <td>2813.692575</td>\n",
       "      <td>43836</td>\n",
       "      <td>73</td>\n",
       "      <td>138.130879</td>\n",
       "    </tr>\n",
       "  </tbody>\n",
       "</table>\n",
       "</div>"
      ],
      "text/plain": [
       "   customer_lifetime_value  income  monthly_premium_auto  total_claim_amount\n",
       "0              2763.519279   56274                    69          384.811147\n",
       "1              6979.535903       0                    94         1131.464935\n",
       "2             12887.431650   48767                   108          566.472247\n",
       "3              7645.861827       0                   106          529.881344\n",
       "4              2813.692575   43836                    73          138.130879"
      ]
     },
     "metadata": {},
     "output_type": "display_data"
    }
   ],
   "source": [
    "display(df_disc.head(5))\n",
    "display(df_cont.head(5))"
   ]
  },
  {
   "cell_type": "markdown",
   "metadata": {
    "ExecuteTime": {
     "end_time": "2022-04-26T14:53:58.499926Z",
     "start_time": "2022-04-26T14:53:58.494825Z"
    }
   },
   "source": [
    "### Checking the distribution of each Numerical Continuous column in seach of outliers"
   ]
  },
  {
   "cell_type": "markdown",
   "metadata": {},
   "source": [
    "Now that we have the 2 separate DataFrames per each kind of Numerical variable, we will check the distribution of all the **Continuous** ones"
   ]
  },
  {
   "cell_type": "markdown",
   "metadata": {},
   "source": [
    "#### Distribution Plots:"
   ]
  },
  {
   "cell_type": "code",
   "execution_count": 13,
   "metadata": {
    "ExecuteTime": {
     "end_time": "2022-04-29T13:54:34.465780Z",
     "start_time": "2022-04-29T13:54:34.452424Z"
    }
   },
   "outputs": [],
   "source": [
    "def plot_num (df):\n",
    "    cols =[]\n",
    "    df2 = df.select_dtypes(include = np.number)\n",
    "    for column in df2.columns:\n",
    "        cols.append(column)   \n",
    "        sns.displot(df2[cols]);\n",
    "        plt.show()\n",
    "        cols.pop()"
   ]
  },
  {
   "cell_type": "code",
   "execution_count": 14,
   "metadata": {
    "ExecuteTime": {
     "end_time": "2022-04-29T13:54:43.279014Z",
     "start_time": "2022-04-29T13:54:34.483217Z"
    }
   },
   "outputs": [
    {
     "data": {
      "image/png": "[encoded data removed]",
      "text/plain": [
       "<Figure size 518.25x360 with 1 Axes>"
      ]
     },
     "metadata": {
      "needs_background": "light"
     },
     "output_type": "display_data"
    },
    {
     "data": {
      "image/png": "[encoded data removed]",
      "text/plain": [
       "<Figure size 432.5x360 with 1 Axes>"
      ]
     },
     "metadata": {
      "needs_background": "light"
     },
     "output_type": "display_data"
    },
    {
     "data": {
      "image/png": "[encoded data removed]",
      "text/plain": [
       "<Figure size 514.125x360 with 1 Axes>"
      ]
     },
     "metadata": {
      "needs_background": "light"
     },
     "output_type": "display_data"
    },
    {
     "data": {
      "image/png": "[encoded data removed]",
      "text/plain": [
       "<Figure size 494.125x360 with 1 Axes>"
      ]
     },
     "metadata": {
      "needs_background": "light"
     },
     "output_type": "display_data"
    }
   ],
   "source": [
    "plot_num(df_cont)"
   ]
  },
  {
   "cell_type": "markdown",
   "metadata": {},
   "source": [
    "So far, we can see Outliers on 'customer_lifetime_value', 'monthly_premium_auto' and 'total_claim_amount'. Let's explore deeper by using Boxplots."
   ]
  },
  {
   "cell_type": "markdown",
   "metadata": {},
   "source": [
    "#### Boxplots:"
   ]
  },
  {
   "cell_type": "code",
   "execution_count": 15,
   "metadata": {
    "ExecuteTime": {
     "end_time": "2022-04-29T13:54:43.471204Z",
     "start_time": "2022-04-29T13:54:43.310992Z"
    }
   },
   "outputs": [],
   "source": [
    "def boxplotting (df):\n",
    "    cols = []\n",
    "    df2 = df.select_dtypes(include = np.number)\n",
    "    for column in df2.columns:\n",
    "        cols.append(column)\n",
    "    for col in cols:\n",
    "        sns.boxplot(x = df2[col])\n",
    "        plt.show()"
   ]
  },
  {
   "cell_type": "code",
   "execution_count": 16,
   "metadata": {
    "ExecuteTime": {
     "end_time": "2022-04-29T13:54:44.882263Z",
     "start_time": "2022-04-29T13:54:43.506049Z"
    }
   },
   "outputs": [
    {
     "data": {
      "image/png": "[encoded data removed]",
      "text/plain": [
       "<Figure size 432x288 with 1 Axes>"
      ]
     },
     "metadata": {
      "needs_background": "light"
     },
     "output_type": "display_data"
    },
    {
     "data": {
      "image/png": "[encoded data removed]",
      "text/plain": [
       "<Figure size 432x288 with 1 Axes>"
      ]
     },
     "metadata": {
      "needs_background": "light"
     },
     "output_type": "display_data"
    },
    {
     "data": {
      "image/png": "[encoded data removed]",
      "text/plain": [
       "<Figure size 432x288 with 1 Axes>"
      ]
     },
     "metadata": {
      "needs_background": "light"
     },
     "output_type": "display_data"
    },
    {
     "data": {
      "image/png": "[encoded data removed]",
      "text/plain": [
       "<Figure size 432x288 with 1 Axes>"
      ]
     },
     "metadata": {
      "needs_background": "light"
     },
     "output_type": "display_data"
    }
   ],
   "source": [
    "boxplotting(df_cont)"
   ]
  },
  {
   "cell_type": "markdown",
   "metadata": {
    "ExecuteTime": {
     "end_time": "2022-04-26T15:13:14.464003Z",
     "start_time": "2022-04-26T15:13:14.453419Z"
    }
   },
   "source": [
    "We can confirm that there are outliers in the aforementioned columns, we will remove these now."
   ]
  },
  {
   "cell_type": "markdown",
   "metadata": {},
   "source": [
    "### Removing Outliers:"
   ]
  },
  {
   "cell_type": "code",
   "execution_count": 17,
   "metadata": {
    "ExecuteTime": {
     "end_time": "2022-04-29T13:54:45.064427Z",
     "start_time": "2022-04-29T13:54:44.940223Z"
    }
   },
   "outputs": [],
   "source": [
    "#Let's create a list of the columns with Outliers to remove:\n",
    "cols = ['customer_lifetime_value', 'monthly_premium_auto', 'total_claim_amount']"
   ]
  },
  {
   "cell_type": "code",
   "execution_count": 18,
   "metadata": {
    "ExecuteTime": {
     "end_time": "2022-04-29T13:54:45.096469Z",
     "start_time": "2022-04-29T13:54:45.070123Z"
    }
   },
   "outputs": [],
   "source": [
    "def outliers_out(df, columns):\n",
    " \n",
    "    df2 = df.copy()\n",
    "    i = 0\n",
    "\n",
    "    for col in columns:\n",
    "        iqr = np.percentile(df2[columns[i]],75) - np.percentile(df2[columns[i]],25)\n",
    "        upper_limit = np.percentile(df2[columns[i]],75) + 1.5*iqr\n",
    "        lower_limit = np.percentile(df2[columns[i]],25) - 1.5*iqr\n",
    "        df2 = df2[(df2[columns[i]]>lower_limit) & (df2[columns[i]]<upper_limit)]\n",
    "        sns.displot(df2[columns[i]])\n",
    "        \n",
    "        i+=1\n",
    "        \n",
    "    plt.show()\n",
    "    return df2"
   ]
  },
  {
   "cell_type": "code",
   "execution_count": 19,
   "metadata": {
    "ExecuteTime": {
     "end_time": "2022-04-29T13:54:47.649634Z",
     "start_time": "2022-04-29T13:54:45.126321Z"
    }
   },
   "outputs": [
    {
     "data": {
      "image/png": "[encoded data removed]",
      "text/plain": [
       "<Figure size 360x360 with 1 Axes>"
      ]
     },
     "metadata": {
      "needs_background": "light"
     },
     "output_type": "display_data"
    },
    {
     "data": {
      "image/png": "[encoded data removed]",
      "text/plain": [
       "<Figure size 360x360 with 1 Axes>"
      ]
     },
     "metadata": {
      "needs_background": "light"
     },
     "output_type": "display_data"
    },
    {
     "data": {
      "image/png": "[encoded data removed]",
      "text/plain": [
       "<Figure size 360x360 with 1 Axes>"
      ]
     },
     "metadata": {
      "needs_background": "light"
     },
     "output_type": "display_data"
    }
   ],
   "source": [
    "customer_df = outliers_out(customer_df, cols)"
   ]
  },
  {
   "cell_type": "code",
   "execution_count": 20,
   "metadata": {
    "ExecuteTime": {
     "end_time": "2022-04-29T13:54:48.711278Z",
     "start_time": "2022-04-29T13:54:47.680893Z"
    }
   },
   "outputs": [
    {
     "data": {
      "image/png": "[encoded data removed]",
      "text/plain": [
       "<Figure size 432x288 with 1 Axes>"
      ]
     },
     "metadata": {
      "needs_background": "light"
     },
     "output_type": "display_data"
    },
    {
     "data": {
      "image/png": "[encoded data removed]",
      "text/plain": [
       "<Figure size 432x288 with 1 Axes>"
      ]
     },
     "metadata": {
      "needs_background": "light"
     },
     "output_type": "display_data"
    },
    {
     "data": {
      "image/png": "[encoded data removed]",
      "text/plain": [
       "<Figure size 432x288 with 1 Axes>"
      ]
     },
     "metadata": {
      "needs_background": "light"
     },
     "output_type": "display_data"
    }
   ],
   "source": [
    "for col in cols:\n",
    "    sns.boxplot(x = customer_df[col])\n",
    "    plt.show()"
   ]
  },
  {
   "cell_type": "markdown",
   "metadata": {
    "ExecuteTime": {
     "end_time": "2022-04-26T15:21:57.309529Z",
     "start_time": "2022-04-26T15:21:57.288860Z"
    }
   },
   "source": [
    "We can definitely see that the number of outliers has been drastically reduced."
   ]
  },
  {
   "cell_type": "markdown",
   "metadata": {},
   "source": [
    "### X - y Split:"
   ]
  },
  {
   "cell_type": "code",
   "execution_count": 21,
   "metadata": {
    "ExecuteTime": {
     "end_time": "2022-04-29T13:54:48.846373Z",
     "start_time": "2022-04-29T13:54:48.744081Z"
    }
   },
   "outputs": [],
   "source": [
    "X = customer_df.drop(['total_claim_amount'], axis =1)\n",
    "y = customer_df[['total_claim_amount']]"
   ]
  },
  {
   "cell_type": "code",
   "execution_count": 22,
   "metadata": {
    "ExecuteTime": {
     "end_time": "2022-04-29T13:54:48.884072Z",
     "start_time": "2022-04-29T13:54:48.871549Z"
    }
   },
   "outputs": [
    {
     "data": {
      "text/plain": [
       "(7789, 22)"
      ]
     },
     "execution_count": 22,
     "metadata": {},
     "output_type": "execute_result"
    }
   ],
   "source": [
    "X.shape"
   ]
  },
  {
   "cell_type": "markdown",
   "metadata": {},
   "source": [
    "### Train-Test Split:"
   ]
  },
  {
   "cell_type": "code",
   "execution_count": 23,
   "metadata": {
    "ExecuteTime": {
     "end_time": "2022-04-29T13:54:48.960658Z",
     "start_time": "2022-04-29T13:54:48.913139Z"
    }
   },
   "outputs": [],
   "source": [
    "from sklearn.model_selection import train_test_split\n",
    "\n",
    "X_train, X_test, y_train, y_test = train_test_split(X, y, test_size=0.2, random_state=70)"
   ]
  },
  {
   "cell_type": "code",
   "execution_count": 24,
   "metadata": {
    "ExecuteTime": {
     "end_time": "2022-04-29T13:54:48.983407Z",
     "start_time": "2022-04-29T13:54:48.974173Z"
    }
   },
   "outputs": [],
   "source": [
    "#Transform NUMPY ARRAYS into dataframes\n",
    "\n",
    "X_train_df = pd.DataFrame(X_train, columns=X.columns)\n",
    "X_test_df  = pd.DataFrame(X_test,columns=X.columns)"
   ]
  },
  {
   "cell_type": "code",
   "execution_count": 25,
   "metadata": {
    "ExecuteTime": {
     "end_time": "2022-04-29T13:54:49.033346Z",
     "start_time": "2022-04-29T13:54:48.993540Z"
    }
   },
   "outputs": [],
   "source": [
    "#split the data into NUMERICAL and CATEGORICAL after the test split, most correct approach\n",
    "\n",
    "X_train_num = X_train_df.select_dtypes(include = np.number)\n",
    "X_test_num  = X_test_df.select_dtypes(include = np.number)\n",
    "X_train_cat = X_train_df.select_dtypes(include = object)\n",
    "X_test_cat  = X_test_df.select_dtypes(include = object)"
   ]
  },
  {
   "cell_type": "markdown",
   "metadata": {},
   "source": [
    "### Create a copy of the dataframe for the data wrangling."
   ]
  },
  {
   "cell_type": "code",
   "execution_count": 26,
   "metadata": {
    "ExecuteTime": {
     "end_time": "2022-04-29T13:54:49.087708Z",
     "start_time": "2022-04-29T13:54:49.051769Z"
    }
   },
   "outputs": [],
   "source": [
    "X_train_num_copy = X_train_num.copy()\n",
    "X_train_cat_copy = X_train_cat.copy()\n",
    "X_test_num_copy = X_test_num.copy()\n",
    "X_test_cat_copy = X_test_cat.copy()"
   ]
  },
  {
   "cell_type": "markdown",
   "metadata": {},
   "source": [
    "### Normalize the Continuous variables. You can use any one method you want."
   ]
  },
  {
   "cell_type": "markdown",
   "metadata": {},
   "source": [
    "#### Splitting X_train and X_test between **Continuous** and **Discrete** variables"
   ]
  },
  {
   "cell_type": "code",
   "execution_count": 27,
   "metadata": {
    "ExecuteTime": {
     "end_time": "2022-04-29T13:54:49.357750Z",
     "start_time": "2022-04-29T13:54:49.108278Z"
    }
   },
   "outputs": [
    {
     "name": "stdout",
     "output_type": "stream",
     "text": [
      "DataFrames for X_train:\n",
      "-----------------------\n",
      "\n"
     ]
    },
    {
     "data": {
      "text/html": [
       "<div>\n",
       "<style scoped>\n",
       "    .dataframe tbody tr th:only-of-type {\n",
       "        vertical-align: middle;\n",
       "    }\n",
       "\n",
       "    .dataframe tbody tr th {\n",
       "        vertical-align: top;\n",
       "    }\n",
       "\n",
       "    .dataframe thead th {\n",
       "        text-align: right;\n",
       "    }\n",
       "</style>\n",
       "<table border=\"1\" class=\"dataframe\">\n",
       "  <thead>\n",
       "    <tr style=\"text-align: right;\">\n",
       "      <th></th>\n",
       "      <th>monthly_premium_auto</th>\n",
       "      <th>months_since_last_claim</th>\n",
       "      <th>number_of_open_complaints</th>\n",
       "      <th>number_of_policies</th>\n",
       "    </tr>\n",
       "  </thead>\n",
       "  <tbody>\n",
       "    <tr>\n",
       "      <th>3167</th>\n",
       "      <td>104</td>\n",
       "      <td>13</td>\n",
       "      <td>0</td>\n",
       "      <td>3</td>\n",
       "    </tr>\n",
       "    <tr>\n",
       "      <th>8264</th>\n",
       "      <td>105</td>\n",
       "      <td>31</td>\n",
       "      <td>0</td>\n",
       "      <td>5</td>\n",
       "    </tr>\n",
       "    <tr>\n",
       "      <th>2595</th>\n",
       "      <td>76</td>\n",
       "      <td>20</td>\n",
       "      <td>0</td>\n",
       "      <td>6</td>\n",
       "    </tr>\n",
       "    <tr>\n",
       "      <th>2047</th>\n",
       "      <td>101</td>\n",
       "      <td>4</td>\n",
       "      <td>0</td>\n",
       "      <td>3</td>\n",
       "    </tr>\n",
       "    <tr>\n",
       "      <th>674</th>\n",
       "      <td>70</td>\n",
       "      <td>18</td>\n",
       "      <td>0</td>\n",
       "      <td>1</td>\n",
       "    </tr>\n",
       "  </tbody>\n",
       "</table>\n",
       "</div>"
      ],
      "text/plain": [
       "      monthly_premium_auto  months_since_last_claim  \\\n",
       "3167                   104                       13   \n",
       "8264                   105                       31   \n",
       "2595                    76                       20   \n",
       "2047                   101                        4   \n",
       "674                     70                       18   \n",
       "\n",
       "      number_of_open_complaints  number_of_policies  \n",
       "3167                          0                   3  \n",
       "8264                          0                   5  \n",
       "2595                          0                   6  \n",
       "2047                          0                   3  \n",
       "674                           0                   1  "
      ]
     },
     "metadata": {},
     "output_type": "display_data"
    },
    {
     "data": {
      "text/html": [
       "<div>\n",
       "<style scoped>\n",
       "    .dataframe tbody tr th:only-of-type {\n",
       "        vertical-align: middle;\n",
       "    }\n",
       "\n",
       "    .dataframe tbody tr th {\n",
       "        vertical-align: top;\n",
       "    }\n",
       "\n",
       "    .dataframe thead th {\n",
       "        text-align: right;\n",
       "    }\n",
       "</style>\n",
       "<table border=\"1\" class=\"dataframe\">\n",
       "  <thead>\n",
       "    <tr style=\"text-align: right;\">\n",
       "      <th></th>\n",
       "      <th>customer_lifetime_value</th>\n",
       "      <th>income</th>\n",
       "    </tr>\n",
       "  </thead>\n",
       "  <tbody>\n",
       "    <tr>\n",
       "      <th>3167</th>\n",
       "      <td>7521.194691</td>\n",
       "      <td>0</td>\n",
       "    </tr>\n",
       "    <tr>\n",
       "      <th>8264</th>\n",
       "      <td>7376.795372</td>\n",
       "      <td>0</td>\n",
       "    </tr>\n",
       "    <tr>\n",
       "      <th>2595</th>\n",
       "      <td>5775.517825</td>\n",
       "      <td>0</td>\n",
       "    </tr>\n",
       "    <tr>\n",
       "      <th>2047</th>\n",
       "      <td>7695.122957</td>\n",
       "      <td>50147</td>\n",
       "    </tr>\n",
       "    <tr>\n",
       "      <th>674</th>\n",
       "      <td>2520.123180</td>\n",
       "      <td>0</td>\n",
       "    </tr>\n",
       "  </tbody>\n",
       "</table>\n",
       "</div>"
      ],
      "text/plain": [
       "      customer_lifetime_value  income\n",
       "3167              7521.194691       0\n",
       "8264              7376.795372       0\n",
       "2595              5775.517825       0\n",
       "2047              7695.122957   50147\n",
       "674               2520.123180       0"
      ]
     },
     "metadata": {},
     "output_type": "display_data"
    },
    {
     "name": "stdout",
     "output_type": "stream",
     "text": [
      "DataFrames for X_test:\n",
      "\n",
      "-----------------------\n",
      "\n"
     ]
    },
    {
     "data": {
      "text/html": [
       "<div>\n",
       "<style scoped>\n",
       "    .dataframe tbody tr th:only-of-type {\n",
       "        vertical-align: middle;\n",
       "    }\n",
       "\n",
       "    .dataframe tbody tr th {\n",
       "        vertical-align: top;\n",
       "    }\n",
       "\n",
       "    .dataframe thead th {\n",
       "        text-align: right;\n",
       "    }\n",
       "</style>\n",
       "<table border=\"1\" class=\"dataframe\">\n",
       "  <thead>\n",
       "    <tr style=\"text-align: right;\">\n",
       "      <th></th>\n",
       "      <th>monthly_premium_auto</th>\n",
       "      <th>months_since_last_claim</th>\n",
       "      <th>number_of_open_complaints</th>\n",
       "      <th>number_of_policies</th>\n",
       "    </tr>\n",
       "  </thead>\n",
       "  <tbody>\n",
       "    <tr>\n",
       "      <th>942</th>\n",
       "      <td>62</td>\n",
       "      <td>8</td>\n",
       "      <td>0</td>\n",
       "      <td>1</td>\n",
       "    </tr>\n",
       "    <tr>\n",
       "      <th>334</th>\n",
       "      <td>70</td>\n",
       "      <td>17</td>\n",
       "      <td>1</td>\n",
       "      <td>5</td>\n",
       "    </tr>\n",
       "    <tr>\n",
       "      <th>6139</th>\n",
       "      <td>69</td>\n",
       "      <td>2</td>\n",
       "      <td>0</td>\n",
       "      <td>1</td>\n",
       "    </tr>\n",
       "    <tr>\n",
       "      <th>5356</th>\n",
       "      <td>93</td>\n",
       "      <td>4</td>\n",
       "      <td>0</td>\n",
       "      <td>1</td>\n",
       "    </tr>\n",
       "    <tr>\n",
       "      <th>2442</th>\n",
       "      <td>61</td>\n",
       "      <td>16</td>\n",
       "      <td>0</td>\n",
       "      <td>1</td>\n",
       "    </tr>\n",
       "    <tr>\n",
       "      <th>...</th>\n",
       "      <td>...</td>\n",
       "      <td>...</td>\n",
       "      <td>...</td>\n",
       "      <td>...</td>\n",
       "    </tr>\n",
       "    <tr>\n",
       "      <th>8566</th>\n",
       "      <td>88</td>\n",
       "      <td>0</td>\n",
       "      <td>0</td>\n",
       "      <td>2</td>\n",
       "    </tr>\n",
       "    <tr>\n",
       "      <th>3928</th>\n",
       "      <td>65</td>\n",
       "      <td>1</td>\n",
       "      <td>0</td>\n",
       "      <td>2</td>\n",
       "    </tr>\n",
       "    <tr>\n",
       "      <th>2901</th>\n",
       "      <td>67</td>\n",
       "      <td>24</td>\n",
       "      <td>0</td>\n",
       "      <td>8</td>\n",
       "    </tr>\n",
       "    <tr>\n",
       "      <th>124</th>\n",
       "      <td>63</td>\n",
       "      <td>17</td>\n",
       "      <td>0</td>\n",
       "      <td>1</td>\n",
       "    </tr>\n",
       "    <tr>\n",
       "      <th>7013</th>\n",
       "      <td>99</td>\n",
       "      <td>1</td>\n",
       "      <td>0</td>\n",
       "      <td>2</td>\n",
       "    </tr>\n",
       "  </tbody>\n",
       "</table>\n",
       "<p>1558 rows × 4 columns</p>\n",
       "</div>"
      ],
      "text/plain": [
       "      monthly_premium_auto  months_since_last_claim  \\\n",
       "942                     62                        8   \n",
       "334                     70                       17   \n",
       "6139                    69                        2   \n",
       "5356                    93                        4   \n",
       "2442                    61                       16   \n",
       "...                    ...                      ...   \n",
       "8566                    88                        0   \n",
       "3928                    65                        1   \n",
       "2901                    67                       24   \n",
       "124                     63                       17   \n",
       "7013                    99                        1   \n",
       "\n",
       "      number_of_open_complaints  number_of_policies  \n",
       "942                           0                   1  \n",
       "334                           1                   5  \n",
       "6139                          0                   1  \n",
       "5356                          0                   1  \n",
       "2442                          0                   1  \n",
       "...                         ...                 ...  \n",
       "8566                          0                   2  \n",
       "3928                          0                   2  \n",
       "2901                          0                   8  \n",
       "124                           0                   1  \n",
       "7013                          0                   2  \n",
       "\n",
       "[1558 rows x 4 columns]"
      ]
     },
     "metadata": {},
     "output_type": "display_data"
    },
    {
     "data": {
      "text/html": [
       "<div>\n",
       "<style scoped>\n",
       "    .dataframe tbody tr th:only-of-type {\n",
       "        vertical-align: middle;\n",
       "    }\n",
       "\n",
       "    .dataframe tbody tr th {\n",
       "        vertical-align: top;\n",
       "    }\n",
       "\n",
       "    .dataframe thead th {\n",
       "        text-align: right;\n",
       "    }\n",
       "</style>\n",
       "<table border=\"1\" class=\"dataframe\">\n",
       "  <thead>\n",
       "    <tr style=\"text-align: right;\">\n",
       "      <th></th>\n",
       "      <th>customer_lifetime_value</th>\n",
       "      <th>income</th>\n",
       "    </tr>\n",
       "  </thead>\n",
       "  <tbody>\n",
       "    <tr>\n",
       "      <th>942</th>\n",
       "      <td>2504.907557</td>\n",
       "      <td>88264</td>\n",
       "    </tr>\n",
       "    <tr>\n",
       "      <th>334</th>\n",
       "      <td>5536.386959</td>\n",
       "      <td>52220</td>\n",
       "    </tr>\n",
       "    <tr>\n",
       "      <th>6139</th>\n",
       "      <td>2443.925701</td>\n",
       "      <td>0</td>\n",
       "    </tr>\n",
       "    <tr>\n",
       "      <th>5356</th>\n",
       "      <td>3500.855508</td>\n",
       "      <td>0</td>\n",
       "    </tr>\n",
       "    <tr>\n",
       "      <th>2442</th>\n",
       "      <td>2280.386988</td>\n",
       "      <td>0</td>\n",
       "    </tr>\n",
       "    <tr>\n",
       "      <th>...</th>\n",
       "      <td>...</td>\n",
       "      <td>...</td>\n",
       "    </tr>\n",
       "    <tr>\n",
       "      <th>8566</th>\n",
       "      <td>10144.309400</td>\n",
       "      <td>27231</td>\n",
       "    </tr>\n",
       "    <tr>\n",
       "      <th>3928</th>\n",
       "      <td>6707.994148</td>\n",
       "      <td>0</td>\n",
       "    </tr>\n",
       "    <tr>\n",
       "      <th>2901</th>\n",
       "      <td>5229.741907</td>\n",
       "      <td>77357</td>\n",
       "    </tr>\n",
       "    <tr>\n",
       "      <th>124</th>\n",
       "      <td>2509.107875</td>\n",
       "      <td>33555</td>\n",
       "    </tr>\n",
       "    <tr>\n",
       "      <th>7013</th>\n",
       "      <td>11955.395980</td>\n",
       "      <td>71587</td>\n",
       "    </tr>\n",
       "  </tbody>\n",
       "</table>\n",
       "<p>1558 rows × 2 columns</p>\n",
       "</div>"
      ],
      "text/plain": [
       "      customer_lifetime_value  income\n",
       "942               2504.907557   88264\n",
       "334               5536.386959   52220\n",
       "6139              2443.925701       0\n",
       "5356              3500.855508       0\n",
       "2442              2280.386988       0\n",
       "...                       ...     ...\n",
       "8566             10144.309400   27231\n",
       "3928              6707.994148       0\n",
       "2901              5229.741907   77357\n",
       "124               2509.107875   33555\n",
       "7013             11955.395980   71587\n",
       "\n",
       "[1558 rows x 2 columns]"
      ]
     },
     "metadata": {},
     "output_type": "display_data"
    }
   ],
   "source": [
    "#X_train:\n",
    "X_train_num_disc, X_train_num_cont = num_cont_disc(X_train_num_copy, 100)\n",
    "\n",
    "print('DataFrames for X_train:')\n",
    "print('-----------------------\\n')\n",
    "display(X_train_num_disc.head(5))\n",
    "display(X_train_num_cont.head(5))\n",
    "\n",
    "#X_test:\n",
    "\n",
    "print('DataFrames for X_test:')\n",
    "print('\\n-----------------------\\n')\n",
    "X_test_num_disc, X_test_num_cont = num_cont_disc(X_test_num_copy, 100)\n",
    "\n",
    "\n",
    "display(X_test_num_disc)\n",
    "display(X_test_num_cont)"
   ]
  },
  {
   "cell_type": "markdown",
   "metadata": {},
   "source": [
    "#### Using Standard Scaler for normalization:"
   ]
  },
  {
   "cell_type": "code",
   "execution_count": 28,
   "metadata": {
    "ExecuteTime": {
     "end_time": "2022-04-29T13:54:49.480879Z",
     "start_time": "2022-04-29T13:54:49.366357Z"
    }
   },
   "outputs": [
    {
     "name": "stdout",
     "output_type": "stream",
     "text": [
      "DataFrame for X_train:\n",
      "-----------------------\n",
      "\n"
     ]
    },
    {
     "data": {
      "text/html": [
       "<div>\n",
       "<style scoped>\n",
       "    .dataframe tbody tr th:only-of-type {\n",
       "        vertical-align: middle;\n",
       "    }\n",
       "\n",
       "    .dataframe tbody tr th {\n",
       "        vertical-align: top;\n",
       "    }\n",
       "\n",
       "    .dataframe thead th {\n",
       "        text-align: right;\n",
       "    }\n",
       "</style>\n",
       "<table border=\"1\" class=\"dataframe\">\n",
       "  <thead>\n",
       "    <tr style=\"text-align: right;\">\n",
       "      <th></th>\n",
       "      <th>customer_lifetime_value</th>\n",
       "      <th>income</th>\n",
       "    </tr>\n",
       "  </thead>\n",
       "  <tbody>\n",
       "    <tr>\n",
       "      <th>3167</th>\n",
       "      <td>0.462809</td>\n",
       "      <td>-1.279498</td>\n",
       "    </tr>\n",
       "    <tr>\n",
       "      <th>8264</th>\n",
       "      <td>0.416438</td>\n",
       "      <td>-1.279498</td>\n",
       "    </tr>\n",
       "    <tr>\n",
       "      <th>2595</th>\n",
       "      <td>-0.097777</td>\n",
       "      <td>-1.279498</td>\n",
       "    </tr>\n",
       "    <tr>\n",
       "      <th>2047</th>\n",
       "      <td>0.518662</td>\n",
       "      <td>0.387484</td>\n",
       "    </tr>\n",
       "    <tr>\n",
       "      <th>674</th>\n",
       "      <td>-1.143174</td>\n",
       "      <td>-1.279498</td>\n",
       "    </tr>\n",
       "    <tr>\n",
       "      <th>...</th>\n",
       "      <td>...</td>\n",
       "      <td>...</td>\n",
       "    </tr>\n",
       "    <tr>\n",
       "      <th>1571</th>\n",
       "      <td>-0.498048</td>\n",
       "      <td>0.885680</td>\n",
       "    </tr>\n",
       "    <tr>\n",
       "      <th>4499</th>\n",
       "      <td>1.775919</td>\n",
       "      <td>0.100141</td>\n",
       "    </tr>\n",
       "    <tr>\n",
       "      <th>6140</th>\n",
       "      <td>2.229954</td>\n",
       "      <td>-1.279498</td>\n",
       "    </tr>\n",
       "    <tr>\n",
       "      <th>5026</th>\n",
       "      <td>-1.155353</td>\n",
       "      <td>-0.245907</td>\n",
       "    </tr>\n",
       "    <tr>\n",
       "      <th>8788</th>\n",
       "      <td>0.159104</td>\n",
       "      <td>1.517675</td>\n",
       "    </tr>\n",
       "  </tbody>\n",
       "</table>\n",
       "<p>6231 rows × 2 columns</p>\n",
       "</div>"
      ],
      "text/plain": [
       "      customer_lifetime_value    income\n",
       "3167                 0.462809 -1.279498\n",
       "8264                 0.416438 -1.279498\n",
       "2595                -0.097777 -1.279498\n",
       "2047                 0.518662  0.387484\n",
       "674                 -1.143174 -1.279498\n",
       "...                       ...       ...\n",
       "1571                -0.498048  0.885680\n",
       "4499                 1.775919  0.100141\n",
       "6140                 2.229954 -1.279498\n",
       "5026                -1.155353 -0.245907\n",
       "8788                 0.159104  1.517675\n",
       "\n",
       "[6231 rows x 2 columns]"
      ]
     },
     "metadata": {},
     "output_type": "display_data"
    },
    {
     "name": "stdout",
     "output_type": "stream",
     "text": [
      "DataFrame for X_test:\n",
      "-----------------------\n",
      "\n"
     ]
    },
    {
     "data": {
      "text/html": [
       "<div>\n",
       "<style scoped>\n",
       "    .dataframe tbody tr th:only-of-type {\n",
       "        vertical-align: middle;\n",
       "    }\n",
       "\n",
       "    .dataframe tbody tr th {\n",
       "        vertical-align: top;\n",
       "    }\n",
       "\n",
       "    .dataframe thead th {\n",
       "        text-align: right;\n",
       "    }\n",
       "</style>\n",
       "<table border=\"1\" class=\"dataframe\">\n",
       "  <thead>\n",
       "    <tr style=\"text-align: right;\">\n",
       "      <th></th>\n",
       "      <th>customer_lifetime_value</th>\n",
       "      <th>income</th>\n",
       "    </tr>\n",
       "  </thead>\n",
       "  <tbody>\n",
       "    <tr>\n",
       "      <th>942</th>\n",
       "      <td>-1.148060</td>\n",
       "      <td>1.654565</td>\n",
       "    </tr>\n",
       "    <tr>\n",
       "      <th>334</th>\n",
       "      <td>-0.174568</td>\n",
       "      <td>0.456394</td>\n",
       "    </tr>\n",
       "    <tr>\n",
       "      <th>6139</th>\n",
       "      <td>-1.167643</td>\n",
       "      <td>-1.279498</td>\n",
       "    </tr>\n",
       "    <tr>\n",
       "      <th>5356</th>\n",
       "      <td>-0.828234</td>\n",
       "      <td>-1.279498</td>\n",
       "    </tr>\n",
       "    <tr>\n",
       "      <th>2442</th>\n",
       "      <td>-1.220160</td>\n",
       "      <td>-1.279498</td>\n",
       "    </tr>\n",
       "    <tr>\n",
       "      <th>...</th>\n",
       "      <td>...</td>\n",
       "      <td>...</td>\n",
       "    </tr>\n",
       "    <tr>\n",
       "      <th>8566</th>\n",
       "      <td>1.305163</td>\n",
       "      <td>-0.374288</td>\n",
       "    </tr>\n",
       "    <tr>\n",
       "      <th>3928</th>\n",
       "      <td>0.201667</td>\n",
       "      <td>-1.279498</td>\n",
       "    </tr>\n",
       "    <tr>\n",
       "      <th>2901</th>\n",
       "      <td>-0.273040</td>\n",
       "      <td>1.291995</td>\n",
       "    </tr>\n",
       "    <tr>\n",
       "      <th>124</th>\n",
       "      <td>-1.146711</td>\n",
       "      <td>-0.164066</td>\n",
       "    </tr>\n",
       "    <tr>\n",
       "      <th>7013</th>\n",
       "      <td>1.886754</td>\n",
       "      <td>1.100190</td>\n",
       "    </tr>\n",
       "  </tbody>\n",
       "</table>\n",
       "<p>1558 rows × 2 columns</p>\n",
       "</div>"
      ],
      "text/plain": [
       "      customer_lifetime_value    income\n",
       "942                 -1.148060  1.654565\n",
       "334                 -0.174568  0.456394\n",
       "6139                -1.167643 -1.279498\n",
       "5356                -0.828234 -1.279498\n",
       "2442                -1.220160 -1.279498\n",
       "...                       ...       ...\n",
       "8566                 1.305163 -0.374288\n",
       "3928                 0.201667 -1.279498\n",
       "2901                -0.273040  1.291995\n",
       "124                 -1.146711 -0.164066\n",
       "7013                 1.886754  1.100190\n",
       "\n",
       "[1558 rows x 2 columns]"
      ]
     },
     "metadata": {},
     "output_type": "display_data"
    }
   ],
   "source": [
    "from sklearn.preprocessing import StandardScaler\n",
    "\n",
    "stdscaler = StandardScaler().fit(X_train_num_cont.values)\n",
    "\n",
    "#X_train:\n",
    "X_train_standardized = stdscaler.transform(X_train_num_cont.values)\n",
    "X_train_standardized_df =pd.DataFrame(X_train_standardized, columns= X_train_num_cont.columns, index = X_train_num_cont.index)\n",
    "print('DataFrame for X_train:')\n",
    "print('-----------------------\\n')\n",
    "display(X_train_standardized_df)\n",
    "\n",
    "#X_test:\n",
    "X_test_standardized = stdscaler.transform(X_test_num_cont.values)\n",
    "X_test_standardized_df = pd.DataFrame(X_test_standardized, columns= X_test_num_cont.columns, index = X_test_num_cont.index)\n",
    "print('DataFrame for X_test:')\n",
    "print('-----------------------\\n')\n",
    "display(X_test_standardized_df)\n"
   ]
  },
  {
   "cell_type": "markdown",
   "metadata": {},
   "source": [
    "### Encode the categorical variables:"
   ]
  },
  {
   "cell_type": "markdown",
   "metadata": {},
   "source": [
    "Since we have some alphanumerical columns that express an implicit order within their values we are going to use 2 different encoding methods:\n",
    "\n",
    "- **Ordinal Encoder** for Categorical Ordinal variables\n",
    "- **One Hot Encoder** for Categorical Nominal ones"
   ]
  },
  {
   "cell_type": "markdown",
   "metadata": {},
   "source": [
    "#### Categorical Ordinal and Nominal Split:"
   ]
  },
  {
   "cell_type": "code",
   "execution_count": 29,
   "metadata": {
    "ExecuteTime": {
     "end_time": "2022-04-29T13:54:49.548751Z",
     "start_time": "2022-04-29T13:54:49.517079Z"
    }
   },
   "outputs": [],
   "source": [
    "#X_train:\n",
    "\n",
    "X_train_cat_nom = X_train_cat.drop(['coverage', 'employmentstatus', 'location_code', 'vehicle_size', 'effective_to_date'], axis = 1)\n",
    "\n",
    "X_train_cat_ord = X_train_cat.drop(['state', 'response', 'education',\n",
    "       'gender', 'marital_status', 'policy_type', 'policy',\n",
    "       'renew_offer_type', 'sales_channel', 'vehicle_class','effective_to_date'],  axis = 1)\n",
    "\n",
    "#X_test:\n",
    "\n",
    "X_test_cat_nom = X_test_cat.drop(['coverage', 'employmentstatus', 'location_code', 'vehicle_size', 'effective_to_date'], axis = 1)\n",
    "\n",
    "X_test_cat_ord = X_test_cat.drop(['state', 'response', 'education',\n",
    "       'gender', 'marital_status', 'policy_type', 'policy',\n",
    "       'renew_offer_type', 'sales_channel', 'vehicle_class', 'effective_to_date'],  axis = 1)"
   ]
  },
  {
   "cell_type": "code",
   "execution_count": 30,
   "metadata": {
    "ExecuteTime": {
     "end_time": "2022-04-29T13:54:49.802867Z",
     "start_time": "2022-04-29T13:54:49.558898Z"
    },
    "scrolled": false
   },
   "outputs": [
    {
     "name": "stdout",
     "output_type": "stream",
     "text": [
      "DataFrames for X_train:\n",
      "-----------------------\n",
      "\n"
     ]
    },
    {
     "data": {
      "text/html": [
       "<div>\n",
       "<style scoped>\n",
       "    .dataframe tbody tr th:only-of-type {\n",
       "        vertical-align: middle;\n",
       "    }\n",
       "\n",
       "    .dataframe tbody tr th {\n",
       "        vertical-align: top;\n",
       "    }\n",
       "\n",
       "    .dataframe thead th {\n",
       "        text-align: right;\n",
       "    }\n",
       "</style>\n",
       "<table border=\"1\" class=\"dataframe\">\n",
       "  <thead>\n",
       "    <tr style=\"text-align: right;\">\n",
       "      <th></th>\n",
       "      <th>state</th>\n",
       "      <th>response</th>\n",
       "      <th>education</th>\n",
       "      <th>gender</th>\n",
       "      <th>marital_status</th>\n",
       "      <th>policy_type</th>\n",
       "      <th>policy</th>\n",
       "      <th>renew_offer_type</th>\n",
       "      <th>sales_channel</th>\n",
       "      <th>vehicle_class</th>\n",
       "    </tr>\n",
       "  </thead>\n",
       "  <tbody>\n",
       "    <tr>\n",
       "      <th>3167</th>\n",
       "      <td>Oregon</td>\n",
       "      <td>No</td>\n",
       "      <td>College</td>\n",
       "      <td>M</td>\n",
       "      <td>Married</td>\n",
       "      <td>Personal Auto</td>\n",
       "      <td>Personal L3</td>\n",
       "      <td>Offer1</td>\n",
       "      <td>Branch</td>\n",
       "      <td>Four-Door Car</td>\n",
       "    </tr>\n",
       "    <tr>\n",
       "      <th>8264</th>\n",
       "      <td>California</td>\n",
       "      <td>No</td>\n",
       "      <td>Bachelor</td>\n",
       "      <td>M</td>\n",
       "      <td>Single</td>\n",
       "      <td>Corporate Auto</td>\n",
       "      <td>Corporate L1</td>\n",
       "      <td>Offer2</td>\n",
       "      <td>Agent</td>\n",
       "      <td>SUV</td>\n",
       "    </tr>\n",
       "    <tr>\n",
       "      <th>2595</th>\n",
       "      <td>Washington</td>\n",
       "      <td>No</td>\n",
       "      <td>High School or Below</td>\n",
       "      <td>F</td>\n",
       "      <td>Single</td>\n",
       "      <td>Personal Auto</td>\n",
       "      <td>Personal L1</td>\n",
       "      <td>Offer3</td>\n",
       "      <td>Call Center</td>\n",
       "      <td>Two-Door Car</td>\n",
       "    </tr>\n",
       "    <tr>\n",
       "      <th>2047</th>\n",
       "      <td>California</td>\n",
       "      <td>No</td>\n",
       "      <td>Bachelor</td>\n",
       "      <td>M</td>\n",
       "      <td>Single</td>\n",
       "      <td>Personal Auto</td>\n",
       "      <td>Personal L2</td>\n",
       "      <td>Offer1</td>\n",
       "      <td>Branch</td>\n",
       "      <td>SUV</td>\n",
       "    </tr>\n",
       "    <tr>\n",
       "      <th>674</th>\n",
       "      <td>Oregon</td>\n",
       "      <td>No</td>\n",
       "      <td>College</td>\n",
       "      <td>M</td>\n",
       "      <td>Married</td>\n",
       "      <td>Corporate Auto</td>\n",
       "      <td>Corporate L1</td>\n",
       "      <td>Offer2</td>\n",
       "      <td>Agent</td>\n",
       "      <td>Four-Door Car</td>\n",
       "    </tr>\n",
       "  </tbody>\n",
       "</table>\n",
       "</div>"
      ],
      "text/plain": [
       "           state response             education gender marital_status  \\\n",
       "3167      Oregon       No               College      M        Married   \n",
       "8264  California       No              Bachelor      M         Single   \n",
       "2595  Washington       No  High School or Below      F         Single   \n",
       "2047  California       No              Bachelor      M         Single   \n",
       "674       Oregon       No               College      M        Married   \n",
       "\n",
       "         policy_type        policy renew_offer_type sales_channel  \\\n",
       "3167   Personal Auto   Personal L3           Offer1        Branch   \n",
       "8264  Corporate Auto  Corporate L1           Offer2         Agent   \n",
       "2595   Personal Auto   Personal L1           Offer3   Call Center   \n",
       "2047   Personal Auto   Personal L2           Offer1        Branch   \n",
       "674   Corporate Auto  Corporate L1           Offer2         Agent   \n",
       "\n",
       "      vehicle_class  \n",
       "3167  Four-Door Car  \n",
       "8264            SUV  \n",
       "2595   Two-Door Car  \n",
       "2047            SUV  \n",
       "674   Four-Door Car  "
      ]
     },
     "metadata": {},
     "output_type": "display_data"
    },
    {
     "data": {
      "text/html": [
       "<div>\n",
       "<style scoped>\n",
       "    .dataframe tbody tr th:only-of-type {\n",
       "        vertical-align: middle;\n",
       "    }\n",
       "\n",
       "    .dataframe tbody tr th {\n",
       "        vertical-align: top;\n",
       "    }\n",
       "\n",
       "    .dataframe thead th {\n",
       "        text-align: right;\n",
       "    }\n",
       "</style>\n",
       "<table border=\"1\" class=\"dataframe\">\n",
       "  <thead>\n",
       "    <tr style=\"text-align: right;\">\n",
       "      <th></th>\n",
       "      <th>coverage</th>\n",
       "      <th>employmentstatus</th>\n",
       "      <th>location_code</th>\n",
       "      <th>vehicle_size</th>\n",
       "    </tr>\n",
       "  </thead>\n",
       "  <tbody>\n",
       "    <tr>\n",
       "      <th>3167</th>\n",
       "      <td>Premium</td>\n",
       "      <td>Unemployed</td>\n",
       "      <td>Suburban</td>\n",
       "      <td>Small</td>\n",
       "    </tr>\n",
       "    <tr>\n",
       "      <th>8264</th>\n",
       "      <td>Basic</td>\n",
       "      <td>Unemployed</td>\n",
       "      <td>Suburban</td>\n",
       "      <td>Medsize</td>\n",
       "    </tr>\n",
       "    <tr>\n",
       "      <th>2595</th>\n",
       "      <td>Extended</td>\n",
       "      <td>Unemployed</td>\n",
       "      <td>Suburban</td>\n",
       "      <td>Small</td>\n",
       "    </tr>\n",
       "    <tr>\n",
       "      <th>2047</th>\n",
       "      <td>Basic</td>\n",
       "      <td>Employed</td>\n",
       "      <td>Suburban</td>\n",
       "      <td>Medsize</td>\n",
       "    </tr>\n",
       "    <tr>\n",
       "      <th>674</th>\n",
       "      <td>Basic</td>\n",
       "      <td>Unemployed</td>\n",
       "      <td>Rural</td>\n",
       "      <td>Medsize</td>\n",
       "    </tr>\n",
       "  </tbody>\n",
       "</table>\n",
       "</div>"
      ],
      "text/plain": [
       "      coverage employmentstatus location_code vehicle_size\n",
       "3167   Premium       Unemployed      Suburban        Small\n",
       "8264     Basic       Unemployed      Suburban      Medsize\n",
       "2595  Extended       Unemployed      Suburban        Small\n",
       "2047     Basic         Employed      Suburban      Medsize\n",
       "674      Basic       Unemployed         Rural      Medsize"
      ]
     },
     "metadata": {},
     "output_type": "display_data"
    },
    {
     "name": "stdout",
     "output_type": "stream",
     "text": [
      "DataFrames for X_test:\n",
      "-----------------------\n",
      "\n"
     ]
    },
    {
     "data": {
      "text/html": [
       "<div>\n",
       "<style scoped>\n",
       "    .dataframe tbody tr th:only-of-type {\n",
       "        vertical-align: middle;\n",
       "    }\n",
       "\n",
       "    .dataframe tbody tr th {\n",
       "        vertical-align: top;\n",
       "    }\n",
       "\n",
       "    .dataframe thead th {\n",
       "        text-align: right;\n",
       "    }\n",
       "</style>\n",
       "<table border=\"1\" class=\"dataframe\">\n",
       "  <thead>\n",
       "    <tr style=\"text-align: right;\">\n",
       "      <th></th>\n",
       "      <th>state</th>\n",
       "      <th>response</th>\n",
       "      <th>education</th>\n",
       "      <th>gender</th>\n",
       "      <th>marital_status</th>\n",
       "      <th>policy_type</th>\n",
       "      <th>policy</th>\n",
       "      <th>renew_offer_type</th>\n",
       "      <th>sales_channel</th>\n",
       "      <th>vehicle_class</th>\n",
       "    </tr>\n",
       "  </thead>\n",
       "  <tbody>\n",
       "    <tr>\n",
       "      <th>942</th>\n",
       "      <td>Washington</td>\n",
       "      <td>No</td>\n",
       "      <td>High School or Below</td>\n",
       "      <td>M</td>\n",
       "      <td>Married</td>\n",
       "      <td>Personal Auto</td>\n",
       "      <td>Personal L3</td>\n",
       "      <td>Offer1</td>\n",
       "      <td>Branch</td>\n",
       "      <td>Two-Door Car</td>\n",
       "    </tr>\n",
       "    <tr>\n",
       "      <th>334</th>\n",
       "      <td>Arizona</td>\n",
       "      <td>No</td>\n",
       "      <td>College</td>\n",
       "      <td>F</td>\n",
       "      <td>Married</td>\n",
       "      <td>Personal Auto</td>\n",
       "      <td>Personal L2</td>\n",
       "      <td>Offer1</td>\n",
       "      <td>Call Center</td>\n",
       "      <td>Four-Door Car</td>\n",
       "    </tr>\n",
       "    <tr>\n",
       "      <th>6139</th>\n",
       "      <td>California</td>\n",
       "      <td>No</td>\n",
       "      <td>College</td>\n",
       "      <td>M</td>\n",
       "      <td>Married</td>\n",
       "      <td>Personal Auto</td>\n",
       "      <td>Personal L2</td>\n",
       "      <td>Offer2</td>\n",
       "      <td>Branch</td>\n",
       "      <td>Four-Door Car</td>\n",
       "    </tr>\n",
       "    <tr>\n",
       "      <th>5356</th>\n",
       "      <td>Oregon</td>\n",
       "      <td>No</td>\n",
       "      <td>High School or Below</td>\n",
       "      <td>F</td>\n",
       "      <td>Married</td>\n",
       "      <td>Personal Auto</td>\n",
       "      <td>Personal L2</td>\n",
       "      <td>Offer4</td>\n",
       "      <td>Branch</td>\n",
       "      <td>Two-Door Car</td>\n",
       "    </tr>\n",
       "    <tr>\n",
       "      <th>2442</th>\n",
       "      <td>Arizona</td>\n",
       "      <td>No</td>\n",
       "      <td>College</td>\n",
       "      <td>F</td>\n",
       "      <td>Married</td>\n",
       "      <td>Personal Auto</td>\n",
       "      <td>Personal L2</td>\n",
       "      <td>Offer2</td>\n",
       "      <td>Agent</td>\n",
       "      <td>Four-Door Car</td>\n",
       "    </tr>\n",
       "  </tbody>\n",
       "</table>\n",
       "</div>"
      ],
      "text/plain": [
       "           state response             education gender marital_status  \\\n",
       "942   Washington       No  High School or Below      M        Married   \n",
       "334      Arizona       No               College      F        Married   \n",
       "6139  California       No               College      M        Married   \n",
       "5356      Oregon       No  High School or Below      F        Married   \n",
       "2442     Arizona       No               College      F        Married   \n",
       "\n",
       "        policy_type       policy renew_offer_type sales_channel  vehicle_class  \n",
       "942   Personal Auto  Personal L3           Offer1        Branch   Two-Door Car  \n",
       "334   Personal Auto  Personal L2           Offer1   Call Center  Four-Door Car  \n",
       "6139  Personal Auto  Personal L2           Offer2        Branch  Four-Door Car  \n",
       "5356  Personal Auto  Personal L2           Offer4        Branch   Two-Door Car  \n",
       "2442  Personal Auto  Personal L2           Offer2         Agent  Four-Door Car  "
      ]
     },
     "metadata": {},
     "output_type": "display_data"
    },
    {
     "data": {
      "text/html": [
       "<div>\n",
       "<style scoped>\n",
       "    .dataframe tbody tr th:only-of-type {\n",
       "        vertical-align: middle;\n",
       "    }\n",
       "\n",
       "    .dataframe tbody tr th {\n",
       "        vertical-align: top;\n",
       "    }\n",
       "\n",
       "    .dataframe thead th {\n",
       "        text-align: right;\n",
       "    }\n",
       "</style>\n",
       "<table border=\"1\" class=\"dataframe\">\n",
       "  <thead>\n",
       "    <tr style=\"text-align: right;\">\n",
       "      <th></th>\n",
       "      <th>coverage</th>\n",
       "      <th>employmentstatus</th>\n",
       "      <th>location_code</th>\n",
       "      <th>vehicle_size</th>\n",
       "    </tr>\n",
       "  </thead>\n",
       "  <tbody>\n",
       "    <tr>\n",
       "      <th>942</th>\n",
       "      <td>Basic</td>\n",
       "      <td>Employed</td>\n",
       "      <td>Suburban</td>\n",
       "      <td>Medsize</td>\n",
       "    </tr>\n",
       "    <tr>\n",
       "      <th>334</th>\n",
       "      <td>Basic</td>\n",
       "      <td>Employed</td>\n",
       "      <td>Suburban</td>\n",
       "      <td>Small</td>\n",
       "    </tr>\n",
       "    <tr>\n",
       "      <th>6139</th>\n",
       "      <td>Basic</td>\n",
       "      <td>Unemployed</td>\n",
       "      <td>Rural</td>\n",
       "      <td>Medsize</td>\n",
       "    </tr>\n",
       "    <tr>\n",
       "      <th>5356</th>\n",
       "      <td>Extended</td>\n",
       "      <td>Unemployed</td>\n",
       "      <td>Suburban</td>\n",
       "      <td>Small</td>\n",
       "    </tr>\n",
       "    <tr>\n",
       "      <th>2442</th>\n",
       "      <td>Basic</td>\n",
       "      <td>Unemployed</td>\n",
       "      <td>Urban</td>\n",
       "      <td>Medsize</td>\n",
       "    </tr>\n",
       "  </tbody>\n",
       "</table>\n",
       "</div>"
      ],
      "text/plain": [
       "      coverage employmentstatus location_code vehicle_size\n",
       "942      Basic         Employed      Suburban      Medsize\n",
       "334      Basic         Employed      Suburban        Small\n",
       "6139     Basic       Unemployed         Rural      Medsize\n",
       "5356  Extended       Unemployed      Suburban        Small\n",
       "2442     Basic       Unemployed         Urban      Medsize"
      ]
     },
     "metadata": {},
     "output_type": "display_data"
    }
   ],
   "source": [
    "print('DataFrames for X_train:')\n",
    "print('-----------------------\\n')\n",
    "display(X_train_cat_nom.head(5))\n",
    "display(X_train_cat_ord.head(5))\n",
    "\n",
    "print('DataFrames for X_test:')\n",
    "print('-----------------------\\n')\n",
    "display(X_test_cat_nom.head(5))\n",
    "display(X_test_cat_ord.head(5))"
   ]
  },
  {
   "cell_type": "markdown",
   "metadata": {
    "ExecuteTime": {
     "end_time": "2022-04-26T15:51:42.737594Z",
     "start_time": "2022-04-26T15:51:42.732854Z"
    }
   },
   "source": [
    "##### Ordinal Encoding:"
   ]
  },
  {
   "cell_type": "code",
   "execution_count": 31,
   "metadata": {
    "ExecuteTime": {
     "end_time": "2022-04-29T13:54:50.245484Z",
     "start_time": "2022-04-29T13:54:49.927435Z"
    }
   },
   "outputs": [
    {
     "name": "stdout",
     "output_type": "stream",
     "text": [
      "DataFrames for X_train:\n",
      "-----------------------\n",
      "\n"
     ]
    },
    {
     "data": {
      "text/html": [
       "<div>\n",
       "<style scoped>\n",
       "    .dataframe tbody tr th:only-of-type {\n",
       "        vertical-align: middle;\n",
       "    }\n",
       "\n",
       "    .dataframe tbody tr th {\n",
       "        vertical-align: top;\n",
       "    }\n",
       "\n",
       "    .dataframe thead th {\n",
       "        text-align: right;\n",
       "    }\n",
       "</style>\n",
       "<table border=\"1\" class=\"dataframe\">\n",
       "  <thead>\n",
       "    <tr style=\"text-align: right;\">\n",
       "      <th></th>\n",
       "      <th>coverage</th>\n",
       "      <th>employmentstatus</th>\n",
       "      <th>location_code</th>\n",
       "      <th>vehicle_size</th>\n",
       "    </tr>\n",
       "  </thead>\n",
       "  <tbody>\n",
       "    <tr>\n",
       "      <th>3167</th>\n",
       "      <td>2</td>\n",
       "      <td>1</td>\n",
       "      <td>1</td>\n",
       "      <td>0</td>\n",
       "    </tr>\n",
       "    <tr>\n",
       "      <th>8264</th>\n",
       "      <td>0</td>\n",
       "      <td>1</td>\n",
       "      <td>1</td>\n",
       "      <td>1</td>\n",
       "    </tr>\n",
       "    <tr>\n",
       "      <th>2595</th>\n",
       "      <td>1</td>\n",
       "      <td>1</td>\n",
       "      <td>1</td>\n",
       "      <td>0</td>\n",
       "    </tr>\n",
       "    <tr>\n",
       "      <th>2047</th>\n",
       "      <td>0</td>\n",
       "      <td>2</td>\n",
       "      <td>1</td>\n",
       "      <td>1</td>\n",
       "    </tr>\n",
       "    <tr>\n",
       "      <th>674</th>\n",
       "      <td>0</td>\n",
       "      <td>1</td>\n",
       "      <td>2</td>\n",
       "      <td>1</td>\n",
       "    </tr>\n",
       "  </tbody>\n",
       "</table>\n",
       "</div>"
      ],
      "text/plain": [
       "      coverage  employmentstatus  location_code  vehicle_size\n",
       "3167         2                 1              1             0\n",
       "8264         0                 1              1             1\n",
       "2595         1                 1              1             0\n",
       "2047         0                 2              1             1\n",
       "674          0                 1              2             1"
      ]
     },
     "metadata": {},
     "output_type": "display_data"
    },
    {
     "name": "stdout",
     "output_type": "stream",
     "text": [
      "DataFrames for X_test:\n",
      "-----------------------\n",
      "\n"
     ]
    },
    {
     "data": {
      "text/html": [
       "<div>\n",
       "<style scoped>\n",
       "    .dataframe tbody tr th:only-of-type {\n",
       "        vertical-align: middle;\n",
       "    }\n",
       "\n",
       "    .dataframe tbody tr th {\n",
       "        vertical-align: top;\n",
       "    }\n",
       "\n",
       "    .dataframe thead th {\n",
       "        text-align: right;\n",
       "    }\n",
       "</style>\n",
       "<table border=\"1\" class=\"dataframe\">\n",
       "  <thead>\n",
       "    <tr style=\"text-align: right;\">\n",
       "      <th></th>\n",
       "      <th>coverage</th>\n",
       "      <th>employmentstatus</th>\n",
       "      <th>location_code</th>\n",
       "      <th>vehicle_size</th>\n",
       "    </tr>\n",
       "  </thead>\n",
       "  <tbody>\n",
       "    <tr>\n",
       "      <th>942</th>\n",
       "      <td>0</td>\n",
       "      <td>2</td>\n",
       "      <td>1</td>\n",
       "      <td>1</td>\n",
       "    </tr>\n",
       "    <tr>\n",
       "      <th>334</th>\n",
       "      <td>0</td>\n",
       "      <td>2</td>\n",
       "      <td>1</td>\n",
       "      <td>0</td>\n",
       "    </tr>\n",
       "    <tr>\n",
       "      <th>6139</th>\n",
       "      <td>0</td>\n",
       "      <td>1</td>\n",
       "      <td>2</td>\n",
       "      <td>1</td>\n",
       "    </tr>\n",
       "    <tr>\n",
       "      <th>5356</th>\n",
       "      <td>1</td>\n",
       "      <td>1</td>\n",
       "      <td>1</td>\n",
       "      <td>0</td>\n",
       "    </tr>\n",
       "    <tr>\n",
       "      <th>2442</th>\n",
       "      <td>0</td>\n",
       "      <td>1</td>\n",
       "      <td>0</td>\n",
       "      <td>1</td>\n",
       "    </tr>\n",
       "  </tbody>\n",
       "</table>\n",
       "</div>"
      ],
      "text/plain": [
       "      coverage  employmentstatus  location_code  vehicle_size\n",
       "942          0                 2              1             1\n",
       "334          0                 2              1             0\n",
       "6139         0                 1              2             1\n",
       "5356         1                 1              1             0\n",
       "2442         0                 1              0             1"
      ]
     },
     "metadata": {},
     "output_type": "display_data"
    }
   ],
   "source": [
    "#X_train:\n",
    "\n",
    "#Vehicle Size:\n",
    "\n",
    "mapping = {'Small':0,'Medsize':1, 'Large':2}\n",
    "X_train_cat_ord = X_train_cat_ord.replace({'vehicle_size': mapping})\n",
    "\n",
    "#Coverage:\n",
    "\n",
    "mapping2 = {'Basic':0,'Extended':1, 'Premium':2}\n",
    "X_train_cat_ord = X_train_cat_ord.replace({'coverage': mapping2})\n",
    "\n",
    "#Employment Status:\n",
    "\n",
    "mapping3 = {'Disabled':0,'Unemployed':1, 'Employed':2, 'Medical Leave':3, 'Retired': 4}\n",
    "X_train_cat_ord = X_train_cat_ord.replace({'employmentstatus': mapping3})\n",
    "\n",
    "#Location code:\n",
    "\n",
    "mapping4 = {'Urban':0,'Suburban':1, 'Rural':2}\n",
    "X_train_cat_ord = X_train_cat_ord.replace({'location_code': mapping4})\n",
    "\n",
    "print('DataFrames for X_train:')\n",
    "print('-----------------------\\n')\n",
    "display(X_train_cat_ord.head())\n",
    "\n",
    "#X_test:\n",
    "\n",
    "#Vehicle Size:\n",
    "\n",
    "mapping5 = {'Small':0,'Medsize':1, 'Large':2}\n",
    "X_test_cat_ord = X_test_cat_ord.replace({'vehicle_size': mapping5})\n",
    "\n",
    "#Coverage:\n",
    "\n",
    "mapping6 = {'Basic':0,'Extended':1, 'Premium':2}\n",
    "X_test_cat_ord = X_test_cat_ord.replace({'coverage': mapping6})\n",
    "\n",
    "#Employment Status:\n",
    "\n",
    "mapping7 = {'Disabled':0,'Unemployed':1, 'Employed':2, 'Medical Leave':3, 'Retired': 4}\n",
    "X_test_cat_ord = X_test_cat_ord.replace({'employmentstatus': mapping7})\n",
    "\n",
    "#Location code:\n",
    "\n",
    "mapping8 = {'Urban':0,'Suburban':1, 'Rural':2}\n",
    "X_test_cat_ord = X_test_cat_ord.replace({'location_code': mapping8})\n",
    "\n",
    "print('DataFrames for X_test:')\n",
    "print('-----------------------\\n')\n",
    "display(X_test_cat_ord.head())"
   ]
  },
  {
   "cell_type": "markdown",
   "metadata": {},
   "source": [
    "Creating a **list of lists** of Unique values for each **Categorical Nominal** columns"
   ]
  },
  {
   "cell_type": "code",
   "execution_count": 32,
   "metadata": {
    "ExecuteTime": {
     "end_time": "2022-04-29T13:54:50.316860Z",
     "start_time": "2022-04-29T13:54:50.253725Z"
    }
   },
   "outputs": [
    {
     "data": {
      "text/plain": [
       "[['Washington', 'Nevada', 'California', 'Oregon', 'Arizona'],\n",
       " ['No', 'Yes'],\n",
       " ['Bachelor', 'College', 'Master', 'High School or Below', 'Doctor'],\n",
       " ['F', 'M'],\n",
       " ['Married', 'Single', 'Divorced'],\n",
       " ['Corporate Auto', 'Personal Auto', 'Special Auto'],\n",
       " ['Corporate L3',\n",
       "  'Personal L3',\n",
       "  'Corporate L2',\n",
       "  'Personal L1',\n",
       "  'Special L2',\n",
       "  'Corporate L1',\n",
       "  'Personal L2',\n",
       "  'Special L1',\n",
       "  'Special L3'],\n",
       " ['Offer1', 'Offer2', 'Offer4', 'Offer3'],\n",
       " ['Agent', 'Call Center', 'Web', 'Branch'],\n",
       " ['Two-Door Car', 'SUV', 'Four-Door Car', 'Sports Car']]"
      ]
     },
     "execution_count": 32,
     "metadata": {},
     "output_type": "execute_result"
    }
   ],
   "source": [
    "categories = [list(customer_df[col].unique()) for col in X_train_cat_nom.columns]\n",
    "categories"
   ]
  },
  {
   "cell_type": "markdown",
   "metadata": {},
   "source": [
    "##### One Hot Encoder:"
   ]
  },
  {
   "cell_type": "code",
   "execution_count": 33,
   "metadata": {
    "ExecuteTime": {
     "end_time": "2022-04-29T13:54:51.284777Z",
     "start_time": "2022-04-29T13:54:50.351923Z"
    }
   },
   "outputs": [
    {
     "name": "stdout",
     "output_type": "stream",
     "text": [
      "DataFrame for X_train:\n",
      "-----------------------\n",
      "\n"
     ]
    },
    {
     "data": {
      "text/html": [
       "<div>\n",
       "<style scoped>\n",
       "    .dataframe tbody tr th:only-of-type {\n",
       "        vertical-align: middle;\n",
       "    }\n",
       "\n",
       "    .dataframe tbody tr th {\n",
       "        vertical-align: top;\n",
       "    }\n",
       "\n",
       "    .dataframe thead th {\n",
       "        text-align: right;\n",
       "    }\n",
       "</style>\n",
       "<table border=\"1\" class=\"dataframe\">\n",
       "  <thead>\n",
       "    <tr style=\"text-align: right;\">\n",
       "      <th></th>\n",
       "      <th>state_Nevada</th>\n",
       "      <th>state_California</th>\n",
       "      <th>state_Oregon</th>\n",
       "      <th>state_Arizona</th>\n",
       "      <th>response_Yes</th>\n",
       "      <th>education_College</th>\n",
       "      <th>education_Master</th>\n",
       "      <th>education_High School or Below</th>\n",
       "      <th>education_Doctor</th>\n",
       "      <th>gender_M</th>\n",
       "      <th>...</th>\n",
       "      <th>policy_Special L3</th>\n",
       "      <th>renew_offer_type_Offer2</th>\n",
       "      <th>renew_offer_type_Offer4</th>\n",
       "      <th>renew_offer_type_Offer3</th>\n",
       "      <th>sales_channel_Call Center</th>\n",
       "      <th>sales_channel_Web</th>\n",
       "      <th>sales_channel_Branch</th>\n",
       "      <th>vehicle_class_SUV</th>\n",
       "      <th>vehicle_class_Four-Door Car</th>\n",
       "      <th>vehicle_class_Sports Car</th>\n",
       "    </tr>\n",
       "  </thead>\n",
       "  <tbody>\n",
       "    <tr>\n",
       "      <th>3167</th>\n",
       "      <td>0.0</td>\n",
       "      <td>0.0</td>\n",
       "      <td>1.0</td>\n",
       "      <td>0.0</td>\n",
       "      <td>0.0</td>\n",
       "      <td>1.0</td>\n",
       "      <td>0.0</td>\n",
       "      <td>0.0</td>\n",
       "      <td>0.0</td>\n",
       "      <td>1.0</td>\n",
       "      <td>...</td>\n",
       "      <td>0.0</td>\n",
       "      <td>0.0</td>\n",
       "      <td>0.0</td>\n",
       "      <td>0.0</td>\n",
       "      <td>0.0</td>\n",
       "      <td>0.0</td>\n",
       "      <td>1.0</td>\n",
       "      <td>0.0</td>\n",
       "      <td>1.0</td>\n",
       "      <td>0.0</td>\n",
       "    </tr>\n",
       "    <tr>\n",
       "      <th>8264</th>\n",
       "      <td>0.0</td>\n",
       "      <td>1.0</td>\n",
       "      <td>0.0</td>\n",
       "      <td>0.0</td>\n",
       "      <td>0.0</td>\n",
       "      <td>0.0</td>\n",
       "      <td>0.0</td>\n",
       "      <td>0.0</td>\n",
       "      <td>0.0</td>\n",
       "      <td>1.0</td>\n",
       "      <td>...</td>\n",
       "      <td>0.0</td>\n",
       "      <td>1.0</td>\n",
       "      <td>0.0</td>\n",
       "      <td>0.0</td>\n",
       "      <td>0.0</td>\n",
       "      <td>0.0</td>\n",
       "      <td>0.0</td>\n",
       "      <td>1.0</td>\n",
       "      <td>0.0</td>\n",
       "      <td>0.0</td>\n",
       "    </tr>\n",
       "    <tr>\n",
       "      <th>2595</th>\n",
       "      <td>0.0</td>\n",
       "      <td>0.0</td>\n",
       "      <td>0.0</td>\n",
       "      <td>0.0</td>\n",
       "      <td>0.0</td>\n",
       "      <td>0.0</td>\n",
       "      <td>0.0</td>\n",
       "      <td>1.0</td>\n",
       "      <td>0.0</td>\n",
       "      <td>0.0</td>\n",
       "      <td>...</td>\n",
       "      <td>0.0</td>\n",
       "      <td>0.0</td>\n",
       "      <td>0.0</td>\n",
       "      <td>1.0</td>\n",
       "      <td>1.0</td>\n",
       "      <td>0.0</td>\n",
       "      <td>0.0</td>\n",
       "      <td>0.0</td>\n",
       "      <td>0.0</td>\n",
       "      <td>0.0</td>\n",
       "    </tr>\n",
       "    <tr>\n",
       "      <th>2047</th>\n",
       "      <td>0.0</td>\n",
       "      <td>1.0</td>\n",
       "      <td>0.0</td>\n",
       "      <td>0.0</td>\n",
       "      <td>0.0</td>\n",
       "      <td>0.0</td>\n",
       "      <td>0.0</td>\n",
       "      <td>0.0</td>\n",
       "      <td>0.0</td>\n",
       "      <td>1.0</td>\n",
       "      <td>...</td>\n",
       "      <td>0.0</td>\n",
       "      <td>0.0</td>\n",
       "      <td>0.0</td>\n",
       "      <td>0.0</td>\n",
       "      <td>0.0</td>\n",
       "      <td>0.0</td>\n",
       "      <td>1.0</td>\n",
       "      <td>1.0</td>\n",
       "      <td>0.0</td>\n",
       "      <td>0.0</td>\n",
       "    </tr>\n",
       "    <tr>\n",
       "      <th>674</th>\n",
       "      <td>0.0</td>\n",
       "      <td>0.0</td>\n",
       "      <td>1.0</td>\n",
       "      <td>0.0</td>\n",
       "      <td>0.0</td>\n",
       "      <td>1.0</td>\n",
       "      <td>0.0</td>\n",
       "      <td>0.0</td>\n",
       "      <td>0.0</td>\n",
       "      <td>1.0</td>\n",
       "      <td>...</td>\n",
       "      <td>0.0</td>\n",
       "      <td>1.0</td>\n",
       "      <td>0.0</td>\n",
       "      <td>0.0</td>\n",
       "      <td>0.0</td>\n",
       "      <td>0.0</td>\n",
       "      <td>0.0</td>\n",
       "      <td>0.0</td>\n",
       "      <td>1.0</td>\n",
       "      <td>0.0</td>\n",
       "    </tr>\n",
       "  </tbody>\n",
       "</table>\n",
       "<p>5 rows × 31 columns</p>\n",
       "</div>"
      ],
      "text/plain": [
       "      state_Nevada  state_California  state_Oregon  state_Arizona  \\\n",
       "3167           0.0               0.0           1.0            0.0   \n",
       "8264           0.0               1.0           0.0            0.0   \n",
       "2595           0.0               0.0           0.0            0.0   \n",
       "2047           0.0               1.0           0.0            0.0   \n",
       "674            0.0               0.0           1.0            0.0   \n",
       "\n",
       "      response_Yes  education_College  education_Master  \\\n",
       "3167           0.0                1.0               0.0   \n",
       "8264           0.0                0.0               0.0   \n",
       "2595           0.0                0.0               0.0   \n",
       "2047           0.0                0.0               0.0   \n",
       "674            0.0                1.0               0.0   \n",
       "\n",
       "      education_High School or Below  education_Doctor  gender_M  ...  \\\n",
       "3167                             0.0               0.0       1.0  ...   \n",
       "8264                             0.0               0.0       1.0  ...   \n",
       "2595                             1.0               0.0       0.0  ...   \n",
       "2047                             0.0               0.0       1.0  ...   \n",
       "674                              0.0               0.0       1.0  ...   \n",
       "\n",
       "      policy_Special L3  renew_offer_type_Offer2  renew_offer_type_Offer4  \\\n",
       "3167                0.0                      0.0                      0.0   \n",
       "8264                0.0                      1.0                      0.0   \n",
       "2595                0.0                      0.0                      0.0   \n",
       "2047                0.0                      0.0                      0.0   \n",
       "674                 0.0                      1.0                      0.0   \n",
       "\n",
       "      renew_offer_type_Offer3  sales_channel_Call Center  sales_channel_Web  \\\n",
       "3167                      0.0                        0.0                0.0   \n",
       "8264                      0.0                        0.0                0.0   \n",
       "2595                      1.0                        1.0                0.0   \n",
       "2047                      0.0                        0.0                0.0   \n",
       "674                       0.0                        0.0                0.0   \n",
       "\n",
       "      sales_channel_Branch  vehicle_class_SUV  vehicle_class_Four-Door Car  \\\n",
       "3167                   1.0                0.0                          1.0   \n",
       "8264                   0.0                1.0                          0.0   \n",
       "2595                   0.0                0.0                          0.0   \n",
       "2047                   1.0                1.0                          0.0   \n",
       "674                    0.0                0.0                          1.0   \n",
       "\n",
       "      vehicle_class_Sports Car  \n",
       "3167                       0.0  \n",
       "8264                       0.0  \n",
       "2595                       0.0  \n",
       "2047                       0.0  \n",
       "674                        0.0  \n",
       "\n",
       "[5 rows x 31 columns]"
      ]
     },
     "metadata": {},
     "output_type": "display_data"
    },
    {
     "name": "stdout",
     "output_type": "stream",
     "text": [
      "DataFrame for X_test:\n",
      "-----------------------\n",
      "\n"
     ]
    },
    {
     "data": {
      "text/html": [
       "<div>\n",
       "<style scoped>\n",
       "    .dataframe tbody tr th:only-of-type {\n",
       "        vertical-align: middle;\n",
       "    }\n",
       "\n",
       "    .dataframe tbody tr th {\n",
       "        vertical-align: top;\n",
       "    }\n",
       "\n",
       "    .dataframe thead th {\n",
       "        text-align: right;\n",
       "    }\n",
       "</style>\n",
       "<table border=\"1\" class=\"dataframe\">\n",
       "  <thead>\n",
       "    <tr style=\"text-align: right;\">\n",
       "      <th></th>\n",
       "      <th>state_Nevada</th>\n",
       "      <th>state_California</th>\n",
       "      <th>state_Oregon</th>\n",
       "      <th>state_Arizona</th>\n",
       "      <th>response_Yes</th>\n",
       "      <th>education_College</th>\n",
       "      <th>education_Master</th>\n",
       "      <th>education_High School or Below</th>\n",
       "      <th>education_Doctor</th>\n",
       "      <th>gender_M</th>\n",
       "      <th>...</th>\n",
       "      <th>policy_Special L3</th>\n",
       "      <th>renew_offer_type_Offer2</th>\n",
       "      <th>renew_offer_type_Offer4</th>\n",
       "      <th>renew_offer_type_Offer3</th>\n",
       "      <th>sales_channel_Call Center</th>\n",
       "      <th>sales_channel_Web</th>\n",
       "      <th>sales_channel_Branch</th>\n",
       "      <th>vehicle_class_SUV</th>\n",
       "      <th>vehicle_class_Four-Door Car</th>\n",
       "      <th>vehicle_class_Sports Car</th>\n",
       "    </tr>\n",
       "  </thead>\n",
       "  <tbody>\n",
       "    <tr>\n",
       "      <th>942</th>\n",
       "      <td>0.0</td>\n",
       "      <td>0.0</td>\n",
       "      <td>0.0</td>\n",
       "      <td>0.0</td>\n",
       "      <td>0.0</td>\n",
       "      <td>0.0</td>\n",
       "      <td>0.0</td>\n",
       "      <td>1.0</td>\n",
       "      <td>0.0</td>\n",
       "      <td>1.0</td>\n",
       "      <td>...</td>\n",
       "      <td>0.0</td>\n",
       "      <td>0.0</td>\n",
       "      <td>0.0</td>\n",
       "      <td>0.0</td>\n",
       "      <td>0.0</td>\n",
       "      <td>0.0</td>\n",
       "      <td>1.0</td>\n",
       "      <td>0.0</td>\n",
       "      <td>0.0</td>\n",
       "      <td>0.0</td>\n",
       "    </tr>\n",
       "    <tr>\n",
       "      <th>334</th>\n",
       "      <td>0.0</td>\n",
       "      <td>0.0</td>\n",
       "      <td>0.0</td>\n",
       "      <td>1.0</td>\n",
       "      <td>0.0</td>\n",
       "      <td>1.0</td>\n",
       "      <td>0.0</td>\n",
       "      <td>0.0</td>\n",
       "      <td>0.0</td>\n",
       "      <td>0.0</td>\n",
       "      <td>...</td>\n",
       "      <td>0.0</td>\n",
       "      <td>0.0</td>\n",
       "      <td>0.0</td>\n",
       "      <td>0.0</td>\n",
       "      <td>1.0</td>\n",
       "      <td>0.0</td>\n",
       "      <td>0.0</td>\n",
       "      <td>0.0</td>\n",
       "      <td>1.0</td>\n",
       "      <td>0.0</td>\n",
       "    </tr>\n",
       "    <tr>\n",
       "      <th>6139</th>\n",
       "      <td>0.0</td>\n",
       "      <td>1.0</td>\n",
       "      <td>0.0</td>\n",
       "      <td>0.0</td>\n",
       "      <td>0.0</td>\n",
       "      <td>1.0</td>\n",
       "      <td>0.0</td>\n",
       "      <td>0.0</td>\n",
       "      <td>0.0</td>\n",
       "      <td>1.0</td>\n",
       "      <td>...</td>\n",
       "      <td>0.0</td>\n",
       "      <td>1.0</td>\n",
       "      <td>0.0</td>\n",
       "      <td>0.0</td>\n",
       "      <td>0.0</td>\n",
       "      <td>0.0</td>\n",
       "      <td>1.0</td>\n",
       "      <td>0.0</td>\n",
       "      <td>1.0</td>\n",
       "      <td>0.0</td>\n",
       "    </tr>\n",
       "    <tr>\n",
       "      <th>5356</th>\n",
       "      <td>0.0</td>\n",
       "      <td>0.0</td>\n",
       "      <td>1.0</td>\n",
       "      <td>0.0</td>\n",
       "      <td>0.0</td>\n",
       "      <td>0.0</td>\n",
       "      <td>0.0</td>\n",
       "      <td>1.0</td>\n",
       "      <td>0.0</td>\n",
       "      <td>0.0</td>\n",
       "      <td>...</td>\n",
       "      <td>0.0</td>\n",
       "      <td>0.0</td>\n",
       "      <td>1.0</td>\n",
       "      <td>0.0</td>\n",
       "      <td>0.0</td>\n",
       "      <td>0.0</td>\n",
       "      <td>1.0</td>\n",
       "      <td>0.0</td>\n",
       "      <td>0.0</td>\n",
       "      <td>0.0</td>\n",
       "    </tr>\n",
       "    <tr>\n",
       "      <th>2442</th>\n",
       "      <td>0.0</td>\n",
       "      <td>0.0</td>\n",
       "      <td>0.0</td>\n",
       "      <td>1.0</td>\n",
       "      <td>0.0</td>\n",
       "      <td>1.0</td>\n",
       "      <td>0.0</td>\n",
       "      <td>0.0</td>\n",
       "      <td>0.0</td>\n",
       "      <td>0.0</td>\n",
       "      <td>...</td>\n",
       "      <td>0.0</td>\n",
       "      <td>1.0</td>\n",
       "      <td>0.0</td>\n",
       "      <td>0.0</td>\n",
       "      <td>0.0</td>\n",
       "      <td>0.0</td>\n",
       "      <td>0.0</td>\n",
       "      <td>0.0</td>\n",
       "      <td>1.0</td>\n",
       "      <td>0.0</td>\n",
       "    </tr>\n",
       "  </tbody>\n",
       "</table>\n",
       "<p>5 rows × 31 columns</p>\n",
       "</div>"
      ],
      "text/plain": [
       "      state_Nevada  state_California  state_Oregon  state_Arizona  \\\n",
       "942            0.0               0.0           0.0            0.0   \n",
       "334            0.0               0.0           0.0            1.0   \n",
       "6139           0.0               1.0           0.0            0.0   \n",
       "5356           0.0               0.0           1.0            0.0   \n",
       "2442           0.0               0.0           0.0            1.0   \n",
       "\n",
       "      response_Yes  education_College  education_Master  \\\n",
       "942            0.0                0.0               0.0   \n",
       "334            0.0                1.0               0.0   \n",
       "6139           0.0                1.0               0.0   \n",
       "5356           0.0                0.0               0.0   \n",
       "2442           0.0                1.0               0.0   \n",
       "\n",
       "      education_High School or Below  education_Doctor  gender_M  ...  \\\n",
       "942                              1.0               0.0       1.0  ...   \n",
       "334                              0.0               0.0       0.0  ...   \n",
       "6139                             0.0               0.0       1.0  ...   \n",
       "5356                             1.0               0.0       0.0  ...   \n",
       "2442                             0.0               0.0       0.0  ...   \n",
       "\n",
       "      policy_Special L3  renew_offer_type_Offer2  renew_offer_type_Offer4  \\\n",
       "942                 0.0                      0.0                      0.0   \n",
       "334                 0.0                      0.0                      0.0   \n",
       "6139                0.0                      1.0                      0.0   \n",
       "5356                0.0                      0.0                      1.0   \n",
       "2442                0.0                      1.0                      0.0   \n",
       "\n",
       "      renew_offer_type_Offer3  sales_channel_Call Center  sales_channel_Web  \\\n",
       "942                       0.0                        0.0                0.0   \n",
       "334                       0.0                        1.0                0.0   \n",
       "6139                      0.0                        0.0                0.0   \n",
       "5356                      0.0                        0.0                0.0   \n",
       "2442                      0.0                        0.0                0.0   \n",
       "\n",
       "      sales_channel_Branch  vehicle_class_SUV  vehicle_class_Four-Door Car  \\\n",
       "942                    1.0                0.0                          0.0   \n",
       "334                    0.0                0.0                          1.0   \n",
       "6139                   1.0                0.0                          1.0   \n",
       "5356                   1.0                0.0                          0.0   \n",
       "2442                   0.0                0.0                          1.0   \n",
       "\n",
       "      vehicle_class_Sports Car  \n",
       "942                        0.0  \n",
       "334                        0.0  \n",
       "6139                       0.0  \n",
       "5356                       0.0  \n",
       "2442                       0.0  \n",
       "\n",
       "[5 rows x 31 columns]"
      ]
     },
     "metadata": {},
     "output_type": "display_data"
    }
   ],
   "source": [
    "from sklearn.preprocessing import OneHotEncoder\n",
    "\n",
    "encoder = OneHotEncoder(drop='first', categories = categories) \n",
    "encoder.fit(X_train_cat_nom.values)\n",
    "\n",
    "#X_train:\n",
    "X_train_cat_encoded = encoder.transform(X_train_cat_nom.values).toarray()\n",
    "cols_train = encoder.get_feature_names_out(input_features=X_train_cat_nom.columns)\n",
    "X_train_cat_encoded_df = pd.DataFrame(X_train_cat_encoded, columns=cols_train, index = X_train_cat_nom.index)\n",
    "print('DataFrame for X_train:')\n",
    "print('-----------------------\\n')\n",
    "display(X_train_cat_encoded_df.head())\n",
    "\n",
    "#X_test:\n",
    "X_test_cat_encoded = encoder.transform(X_test_cat_nom.values).toarray()\n",
    "cols_test = encoder.get_feature_names_out(input_features=X_test_cat_nom.columns)\n",
    "X_test_cat_encoded_df = pd.DataFrame(X_test_cat_encoded, columns=cols_test, index = X_test_cat_nom.index)\n",
    "print('DataFrame for X_test:')\n",
    "print('-----------------------\\n')\n",
    "display(X_test_cat_encoded_df.head())"
   ]
  },
  {
   "cell_type": "markdown",
   "metadata": {},
   "source": [
    "### The time variable can be useful. Try to transform its data into a useful one. Hint: Day week and month as integers might be useful."
   ]
  },
  {
   "cell_type": "markdown",
   "metadata": {},
   "source": [
    "We are going to extract the **days of the week** and the **months** appearing in each date for **Calendar effects**, doing this could be useful if we wanted to investigate if we wanted to make predictions based on certain days of the week, months, quarters or seasons."
   ]
  },
  {
   "cell_type": "markdown",
   "metadata": {},
   "source": [
    "#### Making copies of the time variable in independent DataFrames"
   ]
  },
  {
   "cell_type": "code",
   "execution_count": 34,
   "metadata": {
    "ExecuteTime": {
     "end_time": "2022-04-29T13:54:51.402016Z",
     "start_time": "2022-04-29T13:54:51.307209Z"
    }
   },
   "outputs": [],
   "source": [
    "X_train_time = X_train[['effective_to_date']].copy()\n",
    "X_test_time = X_test[['effective_to_date']].copy()"
   ]
  },
  {
   "cell_type": "markdown",
   "metadata": {
    "ExecuteTime": {
     "end_time": "2022-04-27T07:27:09.535311Z",
     "start_time": "2022-04-27T07:27:09.530161Z"
    }
   },
   "source": [
    "#### Converting the variable into a Time one"
   ]
  },
  {
   "cell_type": "code",
   "execution_count": 35,
   "metadata": {
    "ExecuteTime": {
     "end_time": "2022-04-29T13:54:51.503023Z",
     "start_time": "2022-04-29T13:54:51.413847Z"
    }
   },
   "outputs": [],
   "source": [
    "from datetime import datetime\n",
    "\n",
    "X_train_time['effective_to_date'] = pd.to_datetime(X_train_time['effective_to_date'], errors = 'coerce')\n",
    "X_test_time['effective_to_date'] = pd.to_datetime(X_test_time['effective_to_date'], errors = 'coerce')"
   ]
  },
  {
   "cell_type": "markdown",
   "metadata": {
    "ExecuteTime": {
     "end_time": "2022-04-27T07:28:34.063806Z",
     "start_time": "2022-04-27T07:28:34.060119Z"
    }
   },
   "source": [
    "#### Creating an additional column with the respective day of the week per date"
   ]
  },
  {
   "cell_type": "code",
   "execution_count": 36,
   "metadata": {
    "ExecuteTime": {
     "end_time": "2022-04-29T13:54:51.731437Z",
     "start_time": "2022-04-29T13:54:51.517142Z"
    }
   },
   "outputs": [],
   "source": [
    "X_train_time['day_of_week'] = X_train_time['effective_to_date'].dt.day_of_week\n",
    "X_test_time['day_of_week'] = X_test_time['effective_to_date'].dt.day_of_week"
   ]
  },
  {
   "cell_type": "markdown",
   "metadata": {
    "ExecuteTime": {
     "end_time": "2022-04-27T07:29:17.901523Z",
     "start_time": "2022-04-27T07:29:17.897493Z"
    }
   },
   "source": [
    "#### Creating an additional column with the respective month"
   ]
  },
  {
   "cell_type": "code",
   "execution_count": 37,
   "metadata": {
    "ExecuteTime": {
     "end_time": "2022-04-29T13:54:52.016512Z",
     "start_time": "2022-04-29T13:54:51.749883Z"
    }
   },
   "outputs": [
    {
     "name": "stdout",
     "output_type": "stream",
     "text": [
      "DataFrame for X_train:\n",
      "-----------------------\n",
      "\n"
     ]
    },
    {
     "data": {
      "text/html": [
       "<div>\n",
       "<style scoped>\n",
       "    .dataframe tbody tr th:only-of-type {\n",
       "        vertical-align: middle;\n",
       "    }\n",
       "\n",
       "    .dataframe tbody tr th {\n",
       "        vertical-align: top;\n",
       "    }\n",
       "\n",
       "    .dataframe thead th {\n",
       "        text-align: right;\n",
       "    }\n",
       "</style>\n",
       "<table border=\"1\" class=\"dataframe\">\n",
       "  <thead>\n",
       "    <tr style=\"text-align: right;\">\n",
       "      <th></th>\n",
       "      <th>effective_to_date</th>\n",
       "      <th>day_of_week</th>\n",
       "      <th>month</th>\n",
       "    </tr>\n",
       "  </thead>\n",
       "  <tbody>\n",
       "    <tr>\n",
       "      <th>3167</th>\n",
       "      <td>2011-02-14</td>\n",
       "      <td>0</td>\n",
       "      <td>2</td>\n",
       "    </tr>\n",
       "    <tr>\n",
       "      <th>8264</th>\n",
       "      <td>2011-02-22</td>\n",
       "      <td>1</td>\n",
       "      <td>2</td>\n",
       "    </tr>\n",
       "    <tr>\n",
       "      <th>2595</th>\n",
       "      <td>2011-02-25</td>\n",
       "      <td>4</td>\n",
       "      <td>2</td>\n",
       "    </tr>\n",
       "    <tr>\n",
       "      <th>2047</th>\n",
       "      <td>2011-01-24</td>\n",
       "      <td>0</td>\n",
       "      <td>1</td>\n",
       "    </tr>\n",
       "    <tr>\n",
       "      <th>674</th>\n",
       "      <td>2011-01-15</td>\n",
       "      <td>5</td>\n",
       "      <td>1</td>\n",
       "    </tr>\n",
       "    <tr>\n",
       "      <th>...</th>\n",
       "      <td>...</td>\n",
       "      <td>...</td>\n",
       "      <td>...</td>\n",
       "    </tr>\n",
       "    <tr>\n",
       "      <th>1571</th>\n",
       "      <td>2011-02-18</td>\n",
       "      <td>4</td>\n",
       "      <td>2</td>\n",
       "    </tr>\n",
       "    <tr>\n",
       "      <th>4499</th>\n",
       "      <td>2011-01-01</td>\n",
       "      <td>5</td>\n",
       "      <td>1</td>\n",
       "    </tr>\n",
       "    <tr>\n",
       "      <th>6140</th>\n",
       "      <td>2011-01-31</td>\n",
       "      <td>0</td>\n",
       "      <td>1</td>\n",
       "    </tr>\n",
       "    <tr>\n",
       "      <th>5026</th>\n",
       "      <td>2011-01-31</td>\n",
       "      <td>0</td>\n",
       "      <td>1</td>\n",
       "    </tr>\n",
       "    <tr>\n",
       "      <th>8788</th>\n",
       "      <td>2011-02-02</td>\n",
       "      <td>2</td>\n",
       "      <td>2</td>\n",
       "    </tr>\n",
       "  </tbody>\n",
       "</table>\n",
       "<p>6231 rows × 3 columns</p>\n",
       "</div>"
      ],
      "text/plain": [
       "     effective_to_date  day_of_week  month\n",
       "3167        2011-02-14            0      2\n",
       "8264        2011-02-22            1      2\n",
       "2595        2011-02-25            4      2\n",
       "2047        2011-01-24            0      1\n",
       "674         2011-01-15            5      1\n",
       "...                ...          ...    ...\n",
       "1571        2011-02-18            4      2\n",
       "4499        2011-01-01            5      1\n",
       "6140        2011-01-31            0      1\n",
       "5026        2011-01-31            0      1\n",
       "8788        2011-02-02            2      2\n",
       "\n",
       "[6231 rows x 3 columns]"
      ]
     },
     "metadata": {},
     "output_type": "display_data"
    },
    {
     "name": "stdout",
     "output_type": "stream",
     "text": [
      "DataFrame for X_test:\n",
      "-----------------------\n",
      "\n"
     ]
    },
    {
     "data": {
      "text/html": [
       "<div>\n",
       "<style scoped>\n",
       "    .dataframe tbody tr th:only-of-type {\n",
       "        vertical-align: middle;\n",
       "    }\n",
       "\n",
       "    .dataframe tbody tr th {\n",
       "        vertical-align: top;\n",
       "    }\n",
       "\n",
       "    .dataframe thead th {\n",
       "        text-align: right;\n",
       "    }\n",
       "</style>\n",
       "<table border=\"1\" class=\"dataframe\">\n",
       "  <thead>\n",
       "    <tr style=\"text-align: right;\">\n",
       "      <th></th>\n",
       "      <th>effective_to_date</th>\n",
       "      <th>day_of_week</th>\n",
       "      <th>month</th>\n",
       "    </tr>\n",
       "  </thead>\n",
       "  <tbody>\n",
       "    <tr>\n",
       "      <th>942</th>\n",
       "      <td>2011-02-27</td>\n",
       "      <td>6</td>\n",
       "      <td>2</td>\n",
       "    </tr>\n",
       "    <tr>\n",
       "      <th>334</th>\n",
       "      <td>2011-01-07</td>\n",
       "      <td>4</td>\n",
       "      <td>1</td>\n",
       "    </tr>\n",
       "    <tr>\n",
       "      <th>6139</th>\n",
       "      <td>2011-02-12</td>\n",
       "      <td>5</td>\n",
       "      <td>2</td>\n",
       "    </tr>\n",
       "    <tr>\n",
       "      <th>5356</th>\n",
       "      <td>2011-02-26</td>\n",
       "      <td>5</td>\n",
       "      <td>2</td>\n",
       "    </tr>\n",
       "    <tr>\n",
       "      <th>2442</th>\n",
       "      <td>2011-02-19</td>\n",
       "      <td>5</td>\n",
       "      <td>2</td>\n",
       "    </tr>\n",
       "    <tr>\n",
       "      <th>...</th>\n",
       "      <td>...</td>\n",
       "      <td>...</td>\n",
       "      <td>...</td>\n",
       "    </tr>\n",
       "    <tr>\n",
       "      <th>8566</th>\n",
       "      <td>2011-01-29</td>\n",
       "      <td>5</td>\n",
       "      <td>1</td>\n",
       "    </tr>\n",
       "    <tr>\n",
       "      <th>3928</th>\n",
       "      <td>2011-02-25</td>\n",
       "      <td>4</td>\n",
       "      <td>2</td>\n",
       "    </tr>\n",
       "    <tr>\n",
       "      <th>2901</th>\n",
       "      <td>2011-02-27</td>\n",
       "      <td>6</td>\n",
       "      <td>2</td>\n",
       "    </tr>\n",
       "    <tr>\n",
       "      <th>124</th>\n",
       "      <td>2011-02-16</td>\n",
       "      <td>2</td>\n",
       "      <td>2</td>\n",
       "    </tr>\n",
       "    <tr>\n",
       "      <th>7013</th>\n",
       "      <td>2011-01-17</td>\n",
       "      <td>0</td>\n",
       "      <td>1</td>\n",
       "    </tr>\n",
       "  </tbody>\n",
       "</table>\n",
       "<p>1558 rows × 3 columns</p>\n",
       "</div>"
      ],
      "text/plain": [
       "     effective_to_date  day_of_week  month\n",
       "942         2011-02-27            6      2\n",
       "334         2011-01-07            4      1\n",
       "6139        2011-02-12            5      2\n",
       "5356        2011-02-26            5      2\n",
       "2442        2011-02-19            5      2\n",
       "...                ...          ...    ...\n",
       "8566        2011-01-29            5      1\n",
       "3928        2011-02-25            4      2\n",
       "2901        2011-02-27            6      2\n",
       "124         2011-02-16            2      2\n",
       "7013        2011-01-17            0      1\n",
       "\n",
       "[1558 rows x 3 columns]"
      ]
     },
     "metadata": {},
     "output_type": "display_data"
    }
   ],
   "source": [
    "X_train_time['month'] = X_train_time['effective_to_date'].dt.month\n",
    "X_test_time['month'] = X_test_time['effective_to_date'].dt.month\n",
    "\n",
    "print('DataFrame for X_train:')\n",
    "print('-----------------------\\n')\n",
    "display(X_train_time)\n",
    "print('DataFrame for X_test:')\n",
    "print('-----------------------\\n')\n",
    "display(X_test_time)"
   ]
  },
  {
   "cell_type": "markdown",
   "metadata": {},
   "source": [
    "#### Removing the 'effective_to_date column' \n",
    "\n",
    "Since we already got our dates translated into months and days of the week this column is no longer relevant to us."
   ]
  },
  {
   "cell_type": "code",
   "execution_count": 38,
   "metadata": {
    "ExecuteTime": {
     "end_time": "2022-04-29T13:54:52.100359Z",
     "start_time": "2022-04-29T13:54:52.080053Z"
    }
   },
   "outputs": [],
   "source": [
    "X_train_time = X_train_time.drop(['effective_to_date'], axis = 1)\n",
    "X_test_time = X_test_time.drop(['effective_to_date'], axis = 1)"
   ]
  },
  {
   "cell_type": "markdown",
   "metadata": {},
   "source": [
    "### Concatenating all the DataFrames for both X_train and X_test:"
   ]
  },
  {
   "cell_type": "code",
   "execution_count": 39,
   "metadata": {
    "ExecuteTime": {
     "end_time": "2022-04-29T13:54:52.132555Z",
     "start_time": "2022-04-29T13:54:52.108025Z"
    }
   },
   "outputs": [],
   "source": [
    "X_train_final = pd.concat([X_train_time, X_train_num_disc, X_train_cat_encoded_df, X_train_cat_ord, X_train_standardized_df], axis =1)\n",
    "X_test_final = pd.concat([X_test_time, X_test_num_disc, X_test_cat_encoded_df, X_test_cat_ord, X_test_standardized_df], axis =1)"
   ]
  },
  {
   "cell_type": "markdown",
   "metadata": {
    "ExecuteTime": {
     "end_time": "2022-04-27T08:06:49.353772Z",
     "start_time": "2022-04-27T08:06:49.316259Z"
    }
   },
   "source": [
    "#### Checking for NaNs after concatenation:"
   ]
  },
  {
   "cell_type": "code",
   "execution_count": 40,
   "metadata": {
    "ExecuteTime": {
     "end_time": "2022-04-29T13:54:52.186028Z",
     "start_time": "2022-04-29T13:54:52.144361Z"
    }
   },
   "outputs": [
    {
     "name": "stdout",
     "output_type": "stream",
     "text": [
      "day_of_week                       0\n",
      "month                             0\n",
      "monthly_premium_auto              0\n",
      "months_since_last_claim           0\n",
      "number_of_open_complaints         0\n",
      "number_of_policies                0\n",
      "state_Nevada                      0\n",
      "state_California                  0\n",
      "state_Oregon                      0\n",
      "state_Arizona                     0\n",
      "response_Yes                      0\n",
      "education_College                 0\n",
      "education_Master                  0\n",
      "education_High School or Below    0\n",
      "education_Doctor                  0\n",
      "gender_M                          0\n",
      "marital_status_Single             0\n",
      "marital_status_Divorced           0\n",
      "policy_type_Personal Auto         0\n",
      "policy_type_Special Auto          0\n",
      "policy_Personal L3                0\n",
      "policy_Corporate L2               0\n",
      "policy_Personal L1                0\n",
      "policy_Special L2                 0\n",
      "policy_Corporate L1               0\n",
      "policy_Personal L2                0\n",
      "policy_Special L1                 0\n",
      "policy_Special L3                 0\n",
      "renew_offer_type_Offer2           0\n",
      "renew_offer_type_Offer4           0\n",
      "renew_offer_type_Offer3           0\n",
      "sales_channel_Call Center         0\n",
      "sales_channel_Web                 0\n",
      "sales_channel_Branch              0\n",
      "vehicle_class_SUV                 0\n",
      "vehicle_class_Four-Door Car       0\n",
      "vehicle_class_Sports Car          0\n",
      "coverage                          0\n",
      "employmentstatus                  0\n",
      "location_code                     0\n",
      "vehicle_size                      0\n",
      "customer_lifetime_value           0\n",
      "income                            0\n",
      "dtype: int64\n",
      "\n",
      "-------------------------\n",
      "\n",
      "day_of_week                       0\n",
      "month                             0\n",
      "monthly_premium_auto              0\n",
      "months_since_last_claim           0\n",
      "number_of_open_complaints         0\n",
      "number_of_policies                0\n",
      "state_Nevada                      0\n",
      "state_California                  0\n",
      "state_Oregon                      0\n",
      "state_Arizona                     0\n",
      "response_Yes                      0\n",
      "education_College                 0\n",
      "education_Master                  0\n",
      "education_High School or Below    0\n",
      "education_Doctor                  0\n",
      "gender_M                          0\n",
      "marital_status_Single             0\n",
      "marital_status_Divorced           0\n",
      "policy_type_Personal Auto         0\n",
      "policy_type_Special Auto          0\n",
      "policy_Personal L3                0\n",
      "policy_Corporate L2               0\n",
      "policy_Personal L1                0\n",
      "policy_Special L2                 0\n",
      "policy_Corporate L1               0\n",
      "policy_Personal L2                0\n",
      "policy_Special L1                 0\n",
      "policy_Special L3                 0\n",
      "renew_offer_type_Offer2           0\n",
      "renew_offer_type_Offer4           0\n",
      "renew_offer_type_Offer3           0\n",
      "sales_channel_Call Center         0\n",
      "sales_channel_Web                 0\n",
      "sales_channel_Branch              0\n",
      "vehicle_class_SUV                 0\n",
      "vehicle_class_Four-Door Car       0\n",
      "vehicle_class_Sports Car          0\n",
      "coverage                          0\n",
      "employmentstatus                  0\n",
      "location_code                     0\n",
      "vehicle_size                      0\n",
      "customer_lifetime_value           0\n",
      "income                            0\n",
      "dtype: int64\n"
     ]
    }
   ],
   "source": [
    "print(X_train_final.isna().sum())\n",
    "print('\\n-------------------------\\n')\n",
    "print(X_test_final.isna().sum())"
   ]
  },
  {
   "cell_type": "markdown",
   "metadata": {
    "ExecuteTime": {
     "end_time": "2022-04-27T08:06:11.469404Z",
     "start_time": "2022-04-27T08:06:11.390459Z"
    }
   },
   "source": [
    "We can see that that there are no NaNs after concatenating everything."
   ]
  },
  {
   "cell_type": "markdown",
   "metadata": {},
   "source": [
    "### Since the model will only accept numerical data, check and make sure that every column is numerical, if some are not, change it using encoding."
   ]
  },
  {
   "cell_type": "code",
   "execution_count": 41,
   "metadata": {
    "ExecuteTime": {
     "end_time": "2022-04-29T13:54:52.469958Z",
     "start_time": "2022-04-29T13:54:52.199503Z"
    },
    "scrolled": true
   },
   "outputs": [
    {
     "name": "stdout",
     "output_type": "stream",
     "text": [
      "day_of_week                         int64\n",
      "month                               int64\n",
      "monthly_premium_auto                int64\n",
      "months_since_last_claim             int64\n",
      "number_of_open_complaints           int64\n",
      "number_of_policies                  int64\n",
      "state_Nevada                      float64\n",
      "state_California                  float64\n",
      "state_Oregon                      float64\n",
      "state_Arizona                     float64\n",
      "response_Yes                      float64\n",
      "education_College                 float64\n",
      "education_Master                  float64\n",
      "education_High School or Below    float64\n",
      "education_Doctor                  float64\n",
      "gender_M                          float64\n",
      "marital_status_Single             float64\n",
      "marital_status_Divorced           float64\n",
      "policy_type_Personal Auto         float64\n",
      "policy_type_Special Auto          float64\n",
      "policy_Personal L3                float64\n",
      "policy_Corporate L2               float64\n",
      "policy_Personal L1                float64\n",
      "policy_Special L2                 float64\n",
      "policy_Corporate L1               float64\n",
      "policy_Personal L2                float64\n",
      "policy_Special L1                 float64\n",
      "policy_Special L3                 float64\n",
      "renew_offer_type_Offer2           float64\n",
      "renew_offer_type_Offer4           float64\n",
      "renew_offer_type_Offer3           float64\n",
      "sales_channel_Call Center         float64\n",
      "sales_channel_Web                 float64\n",
      "sales_channel_Branch              float64\n",
      "vehicle_class_SUV                 float64\n",
      "vehicle_class_Four-Door Car       float64\n",
      "vehicle_class_Sports Car          float64\n",
      "coverage                            int64\n",
      "employmentstatus                    int64\n",
      "location_code                       int64\n",
      "vehicle_size                        int64\n",
      "customer_lifetime_value           float64\n",
      "income                            float64\n",
      "dtype: object\n",
      "\n",
      "---------------------\n",
      "\n",
      "day_of_week                         int64\n",
      "month                               int64\n",
      "monthly_premium_auto                int64\n",
      "months_since_last_claim             int64\n",
      "number_of_open_complaints           int64\n",
      "number_of_policies                  int64\n",
      "state_Nevada                      float64\n",
      "state_California                  float64\n",
      "state_Oregon                      float64\n",
      "state_Arizona                     float64\n",
      "response_Yes                      float64\n",
      "education_College                 float64\n",
      "education_Master                  float64\n",
      "education_High School or Below    float64\n",
      "education_Doctor                  float64\n",
      "gender_M                          float64\n",
      "marital_status_Single             float64\n",
      "marital_status_Divorced           float64\n",
      "policy_type_Personal Auto         float64\n",
      "policy_type_Special Auto          float64\n",
      "policy_Personal L3                float64\n",
      "policy_Corporate L2               float64\n",
      "policy_Personal L1                float64\n",
      "policy_Special L2                 float64\n",
      "policy_Corporate L1               float64\n",
      "policy_Personal L2                float64\n",
      "policy_Special L1                 float64\n",
      "policy_Special L3                 float64\n",
      "renew_offer_type_Offer2           float64\n",
      "renew_offer_type_Offer4           float64\n",
      "renew_offer_type_Offer3           float64\n",
      "sales_channel_Call Center         float64\n",
      "sales_channel_Web                 float64\n",
      "sales_channel_Branch              float64\n",
      "vehicle_class_SUV                 float64\n",
      "vehicle_class_Four-Door Car       float64\n",
      "vehicle_class_Sports Car          float64\n",
      "coverage                            int64\n",
      "employmentstatus                    int64\n",
      "location_code                       int64\n",
      "vehicle_size                        int64\n",
      "customer_lifetime_value           float64\n",
      "income                            float64\n",
      "dtype: object\n"
     ]
    }
   ],
   "source": [
    "print(X_train_final.dtypes)\n",
    "print('\\n---------------------\\n')\n",
    "print(X_test_final.dtypes)"
   ]
  },
  {
   "cell_type": "markdown",
   "metadata": {},
   "source": [
    "## Try a simple linear regression with all the data to see whether we are getting good results."
   ]
  },
  {
   "cell_type": "markdown",
   "metadata": {},
   "source": [
    "### Defining the Linear Model "
   ]
  },
  {
   "cell_type": "code",
   "execution_count": 42,
   "metadata": {
    "ExecuteTime": {
     "end_time": "2022-04-29T13:54:52.498932Z",
     "start_time": "2022-04-29T13:54:52.484660Z"
    }
   },
   "outputs": [],
   "source": [
    "from sklearn.linear_model import LinearRegression\n",
    "\n",
    "lr = LinearRegression()"
   ]
  },
  {
   "cell_type": "markdown",
   "metadata": {},
   "source": [
    "### Fitting the model and getting the predictions"
   ]
  },
  {
   "cell_type": "code",
   "execution_count": 43,
   "metadata": {
    "ExecuteTime": {
     "end_time": "2022-04-29T13:54:53.673227Z",
     "start_time": "2022-04-29T13:54:52.516585Z"
    }
   },
   "outputs": [],
   "source": [
    "lr.fit(X_train_final,y_train)\n",
    "y_pred_train = lr.predict(X_train_final)\n",
    "y_pred_test = lr.predict(X_test_final)"
   ]
  },
  {
   "cell_type": "markdown",
   "metadata": {},
   "source": [
    "### Assessing the performance of our model"
   ]
  },
  {
   "cell_type": "code",
   "execution_count": 44,
   "metadata": {
    "ExecuteTime": {
     "end_time": "2022-04-29T13:54:53.698728Z",
     "start_time": "2022-04-29T13:54:53.678790Z"
    }
   },
   "outputs": [],
   "source": [
    "def reg_performance (y_train, y_pred_train, y_test, y_pred_test):\n",
    "    \n",
    "    '''\n",
    "    Measures the performance of a single Regression Model.\n",
    "    '''\n",
    "\n",
    "    from sklearn.metrics import r2_score, mean_squared_error, mean_absolute_error\n",
    "\n",
    "    ME_train = round(np.mean(y_train.values - y_pred_train),2)\n",
    "    ME_test  = round(np.mean(y_test.values - y_pred_test),2)\n",
    "\n",
    "    MAE_train = round(mean_absolute_error(y_train.values,y_pred_train),2)\n",
    "    MAE_test  = round(mean_absolute_error(y_test.values,y_pred_test),2)\n",
    "\n",
    "    MSE_train = round(mean_squared_error(y_train.values,y_pred_train),2)\n",
    "    MSE_test  = round(mean_squared_error(y_test.values,y_pred_test),2)\n",
    "\n",
    "    RMSE_train = round(np.sqrt(MSE_train),2)\n",
    "    RMSE_test  = round(np.sqrt(MSE_test),2)\n",
    "\n",
    "    MAPE_train = round(np.mean((np.abs(y_train.values-y_pred_train) / y_train.values)* 100.),2)\n",
    "    MAPE_test  = round(np.mean((np.abs(y_test.values-y_pred_test) / y_test.values)* 100.),2)\n",
    "\n",
    "    R2_train = round(r2_score(y_train.values,y_pred_train),2)\n",
    "    R2_test  = round(r2_score(y_test.values,y_pred_test),2)\n",
    "    \n",
    "    \n",
    "    print('PERFORMANCE METRICS')\n",
    "    print('--------------------')\n",
    "\n",
    "    performance = pd.DataFrame({'Error_metric': ['Mean error','Mean absolute error','Mean squared error',\n",
    "                                             'Root mean squared error','Mean absolute percentual error',\n",
    "                                             'R2'],\n",
    "                            'Train': [ME_train, MAE_train, MSE_train, RMSE_train, MAPE_train, R2_train],\n",
    "                            'Test' : [ME_test, MAE_test , MSE_test, RMSE_test, MAPE_test, R2_test]})\n",
    "\n",
    "    display(performance)\n",
    "    \n",
    "    print('REAL vs PREDICTED PERFORMANCE')\n",
    "    print('------------------------------')\n",
    "    \n",
    "    #Creating a DataFrame to show differences between predicted and Real values on Train Set:\n",
    "    df_train = pd.DataFrame()\n",
    "    df_train['Real_train'] = y_train\n",
    "    df_train['Pred_train'] = y_pred_train\n",
    "\n",
    "    #Creating a DataFrame differences between predicted and Real values on Test Set:\n",
    "    df_test = pd.DataFrame()\n",
    "    df_test['Real_test'] = y_test\n",
    "    df_test['Pred_test'] = y_pred_test\n",
    "\n",
    "    display(df_train.head())\n",
    "    display(df_test.head())\n",
    "    \n",
    "    return performance, df_train, df_test"
   ]
  },
  {
   "cell_type": "code",
   "execution_count": 45,
   "metadata": {
    "ExecuteTime": {
     "end_time": "2022-04-29T13:54:53.853787Z",
     "start_time": "2022-04-29T13:54:53.701784Z"
    }
   },
   "outputs": [
    {
     "name": "stdout",
     "output_type": "stream",
     "text": [
      "PERFORMANCE METRICS\n",
      "--------------------\n"
     ]
    },
    {
     "data": {
      "text/html": [
       "<div>\n",
       "<style scoped>\n",
       "    .dataframe tbody tr th:only-of-type {\n",
       "        vertical-align: middle;\n",
       "    }\n",
       "\n",
       "    .dataframe tbody tr th {\n",
       "        vertical-align: top;\n",
       "    }\n",
       "\n",
       "    .dataframe thead th {\n",
       "        text-align: right;\n",
       "    }\n",
       "</style>\n",
       "<table border=\"1\" class=\"dataframe\">\n",
       "  <thead>\n",
       "    <tr style=\"text-align: right;\">\n",
       "      <th></th>\n",
       "      <th>Error_metric</th>\n",
       "      <th>Train</th>\n",
       "      <th>Test</th>\n",
       "    </tr>\n",
       "  </thead>\n",
       "  <tbody>\n",
       "    <tr>\n",
       "      <th>0</th>\n",
       "      <td>Mean error</td>\n",
       "      <td>-0.00</td>\n",
       "      <td>1.09</td>\n",
       "    </tr>\n",
       "    <tr>\n",
       "      <th>1</th>\n",
       "      <td>Mean absolute error</td>\n",
       "      <td>108.79</td>\n",
       "      <td>110.26</td>\n",
       "    </tr>\n",
       "    <tr>\n",
       "      <th>2</th>\n",
       "      <td>Mean squared error</td>\n",
       "      <td>19379.34</td>\n",
       "      <td>19746.27</td>\n",
       "    </tr>\n",
       "    <tr>\n",
       "      <th>3</th>\n",
       "      <td>Root mean squared error</td>\n",
       "      <td>139.21</td>\n",
       "      <td>140.52</td>\n",
       "    </tr>\n",
       "    <tr>\n",
       "      <th>4</th>\n",
       "      <td>Mean absolute percentual error</td>\n",
       "      <td>125.15</td>\n",
       "      <td>243.93</td>\n",
       "    </tr>\n",
       "    <tr>\n",
       "      <th>5</th>\n",
       "      <td>R2</td>\n",
       "      <td>0.51</td>\n",
       "      <td>0.52</td>\n",
       "    </tr>\n",
       "  </tbody>\n",
       "</table>\n",
       "</div>"
      ],
      "text/plain": [
       "                     Error_metric     Train      Test\n",
       "0                      Mean error     -0.00      1.09\n",
       "1             Mean absolute error    108.79    110.26\n",
       "2              Mean squared error  19379.34  19746.27\n",
       "3         Root mean squared error    139.21    140.52\n",
       "4  Mean absolute percentual error    125.15    243.93\n",
       "5                              R2      0.51      0.52"
      ]
     },
     "metadata": {},
     "output_type": "display_data"
    },
    {
     "name": "stdout",
     "output_type": "stream",
     "text": [
      "REAL vs PREDICTED PERFORMANCE\n",
      "------------------------------\n"
     ]
    },
    {
     "data": {
      "text/html": [
       "<div>\n",
       "<style scoped>\n",
       "    .dataframe tbody tr th:only-of-type {\n",
       "        vertical-align: middle;\n",
       "    }\n",
       "\n",
       "    .dataframe tbody tr th {\n",
       "        vertical-align: top;\n",
       "    }\n",
       "\n",
       "    .dataframe thead th {\n",
       "        text-align: right;\n",
       "    }\n",
       "</style>\n",
       "<table border=\"1\" class=\"dataframe\">\n",
       "  <thead>\n",
       "    <tr style=\"text-align: right;\">\n",
       "      <th></th>\n",
       "      <th>Real_train</th>\n",
       "      <th>Pred_train</th>\n",
       "    </tr>\n",
       "  </thead>\n",
       "  <tbody>\n",
       "    <tr>\n",
       "      <th>3167</th>\n",
       "      <td>499.200000</td>\n",
       "      <td>555.671703</td>\n",
       "    </tr>\n",
       "    <tr>\n",
       "      <th>8264</th>\n",
       "      <td>756.000000</td>\n",
       "      <td>609.706690</td>\n",
       "    </tr>\n",
       "    <tr>\n",
       "      <th>2595</th>\n",
       "      <td>784.611446</td>\n",
       "      <td>547.696360</td>\n",
       "    </tr>\n",
       "    <tr>\n",
       "      <th>2047</th>\n",
       "      <td>484.800000</td>\n",
       "      <td>459.935670</td>\n",
       "    </tr>\n",
       "    <tr>\n",
       "      <th>674</th>\n",
       "      <td>63.043197</td>\n",
       "      <td>278.690462</td>\n",
       "    </tr>\n",
       "  </tbody>\n",
       "</table>\n",
       "</div>"
      ],
      "text/plain": [
       "      Real_train  Pred_train\n",
       "3167  499.200000  555.671703\n",
       "8264  756.000000  609.706690\n",
       "2595  784.611446  547.696360\n",
       "2047  484.800000  459.935670\n",
       "674    63.043197  278.690462"
      ]
     },
     "metadata": {},
     "output_type": "display_data"
    },
    {
     "data": {
      "text/html": [
       "<div>\n",
       "<style scoped>\n",
       "    .dataframe tbody tr th:only-of-type {\n",
       "        vertical-align: middle;\n",
       "    }\n",
       "\n",
       "    .dataframe tbody tr th {\n",
       "        vertical-align: top;\n",
       "    }\n",
       "\n",
       "    .dataframe thead th {\n",
       "        text-align: right;\n",
       "    }\n",
       "</style>\n",
       "<table border=\"1\" class=\"dataframe\">\n",
       "  <thead>\n",
       "    <tr style=\"text-align: right;\">\n",
       "      <th></th>\n",
       "      <th>Real_test</th>\n",
       "      <th>Pred_test</th>\n",
       "    </tr>\n",
       "  </thead>\n",
       "  <tbody>\n",
       "    <tr>\n",
       "      <th>942</th>\n",
       "      <td>297.600000</td>\n",
       "      <td>199.605005</td>\n",
       "    </tr>\n",
       "    <tr>\n",
       "      <th>334</th>\n",
       "      <td>336.000000</td>\n",
       "      <td>266.767744</td>\n",
       "    </tr>\n",
       "    <tr>\n",
       "      <th>6139</th>\n",
       "      <td>124.180159</td>\n",
       "      <td>283.884049</td>\n",
       "    </tr>\n",
       "    <tr>\n",
       "      <th>5356</th>\n",
       "      <td>446.400000</td>\n",
       "      <td>549.943547</td>\n",
       "    </tr>\n",
       "    <tr>\n",
       "      <th>2442</th>\n",
       "      <td>283.881697</td>\n",
       "      <td>434.240106</td>\n",
       "    </tr>\n",
       "  </tbody>\n",
       "</table>\n",
       "</div>"
      ],
      "text/plain": [
       "       Real_test   Pred_test\n",
       "942   297.600000  199.605005\n",
       "334   336.000000  266.767744\n",
       "6139  124.180159  283.884049\n",
       "5356  446.400000  549.943547\n",
       "2442  283.881697  434.240106"
      ]
     },
     "metadata": {},
     "output_type": "display_data"
    }
   ],
   "source": [
    "performance_lr, df_train_lr, df_test_lr = reg_performance(y_train, y_pred_train, y_test, y_pred_test)"
   ]
  },
  {
   "cell_type": "code",
   "execution_count": 46,
   "metadata": {
    "ExecuteTime": {
     "end_time": "2022-04-29T13:54:53.992337Z",
     "start_time": "2022-04-29T13:54:53.957248Z"
    }
   },
   "outputs": [],
   "source": [
    "def lr_perf_plots(df_train, df_test):\n",
    "\n",
    "    '''\n",
    "    Provides a scatter plot combined with a lineplot to visually asess\n",
    "    the performance of your model\n",
    "\n",
    "    '''\n",
    "    \n",
    "    fig2, ax2 = plt.subplots(2,2, figsize=(16,8))\n",
    "\n",
    "    sns.scatterplot(y = df_train['Pred_train'], x=df_train['Real_train'], ax = ax2[0,0])\n",
    "    sns.lineplot(data = df_train, x = 'Real_train', y = 'Real_train', color = 'black', ax = ax2[0,0])\n",
    "    sns.histplot(df_train['Real_train'] - df_train['Pred_train'], ax = ax2[0,1])\n",
    "\n",
    "    sns.scatterplot(y = df_test['Pred_test'], x=df_test['Real_test'], ax = ax2[1,0])\n",
    "    sns.lineplot(data = df_test, x = 'Real_test', y = 'Real_test', color = 'black', ax = ax2[1,0])\n",
    "    sns.histplot(df_test['Real_test'] - df_test['Pred_test'], ax = ax2[1,1])\n",
    "    \n",
    "    plt.show()\n",
    "\n"
   ]
  },
  {
   "cell_type": "code",
   "execution_count": 47,
   "metadata": {
    "ExecuteTime": {
     "end_time": "2022-04-29T13:55:26.261240Z",
     "start_time": "2022-04-29T13:54:54.009662Z"
    }
   },
   "outputs": [
    {
     "data": {
      "image/png": "[encoded data removed]",
      "text/plain": [
       "<Figure size 1152x576 with 4 Axes>"
      ]
     },
     "metadata": {
      "needs_background": "light"
     },
     "output_type": "display_data"
    }
   ],
   "source": [
    "lr_perf_plots(df_train_lr, df_test_lr)"
   ]
  },
  {
   "cell_type": "markdown",
   "metadata": {},
   "source": [
    "Overall our model is not great, it tends to overestimate on the lower values and underestimate on the higher ones, but at least there is a linear relationship between the values, as shown in the scatter plot and the distribution of the errors is quite Gaussian."
   ]
  },
  {
   "cell_type": "markdown",
   "metadata": {},
   "source": [
    "## Great! Now define a function that takes a list of models and train (and tests) them so we can try a lot of them without repeating code."
   ]
  },
  {
   "cell_type": "markdown",
   "metadata": {},
   "source": [
    "### Defining a list of models to train:\n",
    "\n",
    "For this purpose we will be training the following models:\n",
    "\n",
    "- KNeighbors Regressor\n",
    "- Linear Regression Model\n",
    "- MLP Regressor"
   ]
  },
  {
   "cell_type": "code",
   "execution_count": 48,
   "metadata": {
    "ExecuteTime": {
     "end_time": "2022-04-29T13:55:26.377863Z",
     "start_time": "2022-04-29T13:55:26.273633Z"
    }
   },
   "outputs": [],
   "source": [
    "from sklearn.neighbors import KNeighborsRegressor\n",
    "from sklearn.linear_model import LinearRegression\n",
    "from sklearn.neural_network import MLPRegressor\n",
    "from sklearn.metrics import r2_score\n",
    "\n",
    "model1 = LinearRegression()\n",
    "model2 = KNeighborsRegressor()\n",
    "model3 = MLPRegressor(max_iter = 4000)\n",
    "\n",
    "list_of_models = [(model1,\"Linear_model\"),(model2,\"K-NN\"), (model3,\"MLPRegressor\")]"
   ]
  },
  {
   "cell_type": "markdown",
   "metadata": {},
   "source": [
    "### Defining the function that trains the models:"
   ]
  },
  {
   "cell_type": "code",
   "execution_count": 49,
   "metadata": {
    "ExecuteTime": {
     "end_time": "2022-04-29T13:55:26.532094Z",
     "start_time": "2022-04-29T13:55:26.488511Z"
    }
   },
   "outputs": [],
   "source": [
    "def train_models(list_of_models, X_train, X_test, y_train, y_test):\n",
    "    \n",
    "    '''\n",
    "    This function does the following things:\n",
    "    1. Trains and returns models mentioned in a list\n",
    "    2. Returns a list of arrays with the predictions of each model on for both Train and Test set\n",
    "    3. Returns a list with R2 Scores for both Train and Test set\n",
    "    4. Stores the models in .pkl files\n",
    "    '''\n",
    "    \n",
    "    import pickle\n",
    "  \n",
    "    train_preds = []\n",
    "    test_preds  = []\n",
    "    train_r2_scores = []\n",
    "    test_r2_scores = []\n",
    "        \n",
    "    for model in list_of_models:\n",
    "        \n",
    "        model[0].fit(X_train, y_train.values.ravel())\n",
    "        filename = model[1] + \".pkl\"\n",
    "        \n",
    "        with open(filename,\"wb\") as file:\n",
    "            pickle.dump(model[0],file)\n",
    "            \n",
    "        \n",
    "        y_pred_train = model[0].predict(X_train)\n",
    "        y_pred_test  = model[0].predict(X_test) \n",
    "        \n",
    "        train_preds.append( y_pred_train )\n",
    "        test_preds.append( y_pred_test )\n",
    "        \n",
    "        train_r2_scores.append( r2_score(y_train.values.ravel(), y_pred_train ) )\n",
    "        test_r2_scores.append( r2_score(y_test.values.ravel(), y_pred_test ) )\n",
    "                                                              \n",
    "    \n",
    "    return list_of_models, train_preds, test_preds, train_r2_scores, test_r2_scores"
   ]
  },
  {
   "cell_type": "code",
   "execution_count": 50,
   "metadata": {
    "ExecuteTime": {
     "end_time": "2022-04-29T13:56:13.505801Z",
     "start_time": "2022-04-29T13:55:26.555407Z"
    }
   },
   "outputs": [],
   "source": [
    "list_of_models, train_preds, test_preds, train_r2_scores, test_r2_scores = train_models(list_of_models, X_train_final, X_test_final, y_train, y_test)"
   ]
  },
  {
   "cell_type": "markdown",
   "metadata": {},
   "source": [
    "### Assessing the peformance of all models to find out which one performed best"
   ]
  },
  {
   "cell_type": "code",
   "execution_count": 62,
   "metadata": {
    "ExecuteTime": {
     "end_time": "2022-04-29T14:05:56.225072Z",
     "start_time": "2022-04-29T14:05:56.202868Z"
    }
   },
   "outputs": [],
   "source": [
    "def reg_score_comparison(train_r2_scores, test_r2_scores, model_list):\n",
    "    \n",
    "    for i in range(0, len(train_r2_scores)):\n",
    "        \n",
    "        R2_train = train_r2_scores[i]\n",
    "        model_train = model_list[i][1]\n",
    "        \n",
    "        print('The R2 score of the', model_train, ' on Train set is: ', round(R2_train,2))\n",
    "        \n",
    "        i +=1\n",
    "    \n",
    "    print('---------------------------------------------------------')\n",
    "    \n",
    "    for j in range(0, len(test_r2_scores)):\n",
    "        \n",
    "        R2_test = test_r2_scores[j]\n",
    "        model_test = model_list[j][1]\n",
    "        \n",
    "        print('The R2 score of the', model_test, 'on Test set is: ', round(R2_test,2))\n",
    "        \n",
    "        j +=1\n",
    "    \n",
    "    "
   ]
  },
  {
   "cell_type": "code",
   "execution_count": 63,
   "metadata": {
    "ExecuteTime": {
     "end_time": "2022-04-29T14:05:56.479895Z",
     "start_time": "2022-04-29T14:05:56.451424Z"
    }
   },
   "outputs": [
    {
     "name": "stdout",
     "output_type": "stream",
     "text": [
      "The R2 score of the Linear_model  on Train set is:  0.51\n",
      "The R2 score of the K-NN  on Train set is:  0.55\n",
      "The R2 score of the MLPRegressor  on Train set is:  0.83\n",
      "---------------------------------------------------------\n",
      "The R2 score of the Linear_model on Test set is:  0.52\n",
      "The R2 score of the K-NN on Test set is:  0.31\n",
      "The R2 score of the MLPRegressor on Test set is:  0.83\n"
     ]
    }
   ],
   "source": [
    "reg_score_comparison(train_r2_scores, test_r2_scores, list_of_models)"
   ]
  },
  {
   "cell_type": "markdown",
   "metadata": {},
   "source": [
    "As we can see, based on its R2 score, the model that performs the best is the MLP Regressor, overfitting is not present in any model."
   ]
  }
 ],
 "metadata": {
  "kernelspec": {
   "display_name": "Python 3 (ipykernel)",
   "language": "python",
   "name": "python3"
  },
  "language_info": {
   "codemirror_mode": {
    "name": "ipython",
    "version": 3
   },
   "file_extension": ".py",
   "mimetype": "text/x-python",
   "name": "python",
   "nbconvert_exporter": "python",
   "pygments_lexer": "ipython3",
   "version": "3.9.12"
  },
  "toc": {
   "base_numbering": 1,
   "nav_menu": {},
   "number_sections": true,
   "sideBar": true,
   "skip_h1_title": false,
   "title_cell": "Table of Contents",
   "title_sidebar": "Contents",
   "toc_cell": false,
   "toc_position": {
    "height": "calc(100% - 180px)",
    "left": "10px",
    "top": "150px",
    "width": "337.188px"
   },
   "toc_section_display": true,
   "toc_window_display": true
  }
 },
 "nbformat": 4,
 "nbformat_minor": 4
}
